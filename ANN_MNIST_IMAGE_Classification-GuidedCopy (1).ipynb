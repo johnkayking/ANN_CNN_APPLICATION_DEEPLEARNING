{
 "cells": [
  {
   "cell_type": "code",
   "execution_count": 1,
   "id": "16c9c579",
   "metadata": {},
   "outputs": [
    {
     "name": "stdout",
     "output_type": "stream",
     "text": [
      "Requirement already satisfied: tensorflow in c:\\users\\preeti\\anaconda3\\envs\\deeplearning\\lib\\site-packages (2.11.0)\n",
      "Requirement already satisfied: tensorflow-intel==2.11.0 in c:\\users\\preeti\\anaconda3\\envs\\deeplearning\\lib\\site-packages (from tensorflow) (2.11.0)\n",
      "Requirement already satisfied: tensorflow-estimator<2.12,>=2.11.0 in c:\\users\\preeti\\anaconda3\\envs\\deeplearning\\lib\\site-packages (from tensorflow-intel==2.11.0->tensorflow) (2.11.0)\n",
      "Requirement already satisfied: opt-einsum>=2.3.2 in c:\\users\\preeti\\anaconda3\\envs\\deeplearning\\lib\\site-packages (from tensorflow-intel==2.11.0->tensorflow) (3.3.0)\n",
      "Requirement already satisfied: absl-py>=1.0.0 in c:\\users\\preeti\\anaconda3\\envs\\deeplearning\\lib\\site-packages (from tensorflow-intel==2.11.0->tensorflow) (1.4.0)\n",
      "Requirement already satisfied: typing-extensions>=3.6.6 in c:\\users\\preeti\\anaconda3\\envs\\deeplearning\\lib\\site-packages (from tensorflow-intel==2.11.0->tensorflow) (4.4.0)\n",
      "Requirement already satisfied: tensorflow-io-gcs-filesystem>=0.23.1 in c:\\users\\preeti\\anaconda3\\envs\\deeplearning\\lib\\site-packages (from tensorflow-intel==2.11.0->tensorflow) (0.30.0)\n",
      "Requirement already satisfied: tensorboard<2.12,>=2.11 in c:\\users\\preeti\\anaconda3\\envs\\deeplearning\\lib\\site-packages (from tensorflow-intel==2.11.0->tensorflow) (2.11.2)\n",
      "Requirement already satisfied: flatbuffers>=2.0 in c:\\users\\preeti\\anaconda3\\envs\\deeplearning\\lib\\site-packages (from tensorflow-intel==2.11.0->tensorflow) (23.1.21)\n",
      "Requirement already satisfied: termcolor>=1.1.0 in c:\\users\\preeti\\anaconda3\\envs\\deeplearning\\lib\\site-packages (from tensorflow-intel==2.11.0->tensorflow) (2.2.0)\n",
      "Requirement already satisfied: libclang>=13.0.0 in c:\\users\\preeti\\anaconda3\\envs\\deeplearning\\lib\\site-packages (from tensorflow-intel==2.11.0->tensorflow) (15.0.6.1)\n",
      "Requirement already satisfied: astunparse>=1.6.0 in c:\\users\\preeti\\anaconda3\\envs\\deeplearning\\lib\\site-packages (from tensorflow-intel==2.11.0->tensorflow) (1.6.3)\n",
      "Requirement already satisfied: six>=1.12.0 in c:\\users\\preeti\\anaconda3\\envs\\deeplearning\\lib\\site-packages (from tensorflow-intel==2.11.0->tensorflow) (1.16.0)\n",
      "Requirement already satisfied: protobuf<3.20,>=3.9.2 in c:\\users\\preeti\\anaconda3\\envs\\deeplearning\\lib\\site-packages (from tensorflow-intel==2.11.0->tensorflow) (3.19.6)\n",
      "Requirement already satisfied: google-pasta>=0.1.1 in c:\\users\\preeti\\anaconda3\\envs\\deeplearning\\lib\\site-packages (from tensorflow-intel==2.11.0->tensorflow) (0.2.0)\n",
      "Requirement already satisfied: h5py>=2.9.0 in c:\\users\\preeti\\anaconda3\\envs\\deeplearning\\lib\\site-packages (from tensorflow-intel==2.11.0->tensorflow) (3.8.0)\n",
      "Requirement already satisfied: packaging in c:\\users\\preeti\\anaconda3\\envs\\deeplearning\\lib\\site-packages (from tensorflow-intel==2.11.0->tensorflow) (22.0)\n",
      "Requirement already satisfied: setuptools in c:\\users\\preeti\\anaconda3\\envs\\deeplearning\\lib\\site-packages (from tensorflow-intel==2.11.0->tensorflow) (65.6.3)\n",
      "Requirement already satisfied: wrapt>=1.11.0 in c:\\users\\preeti\\anaconda3\\envs\\deeplearning\\lib\\site-packages (from tensorflow-intel==2.11.0->tensorflow) (1.14.1)\n",
      "Requirement already satisfied: gast<=0.4.0,>=0.2.1 in c:\\users\\preeti\\anaconda3\\envs\\deeplearning\\lib\\site-packages (from tensorflow-intel==2.11.0->tensorflow) (0.4.0)\n",
      "Requirement already satisfied: keras<2.12,>=2.11.0 in c:\\users\\preeti\\anaconda3\\envs\\deeplearning\\lib\\site-packages (from tensorflow-intel==2.11.0->tensorflow) (2.11.0)\n",
      "Requirement already satisfied: grpcio<2.0,>=1.24.3 in c:\\users\\preeti\\anaconda3\\envs\\deeplearning\\lib\\site-packages (from tensorflow-intel==2.11.0->tensorflow) (1.51.1)\n",
      "Requirement already satisfied: numpy>=1.20 in c:\\users\\preeti\\anaconda3\\envs\\deeplearning\\lib\\site-packages (from tensorflow-intel==2.11.0->tensorflow) (1.25.2)\n",
      "Requirement already satisfied: wheel<1.0,>=0.23.0 in c:\\users\\preeti\\anaconda3\\envs\\deeplearning\\lib\\site-packages (from astunparse>=1.6.0->tensorflow-intel==2.11.0->tensorflow) (0.37.1)\n",
      "Requirement already satisfied: google-auth<3,>=1.6.3 in c:\\users\\preeti\\anaconda3\\envs\\deeplearning\\lib\\site-packages (from tensorboard<2.12,>=2.11->tensorflow-intel==2.11.0->tensorflow) (2.16.0)\n",
      "Requirement already satisfied: werkzeug>=1.0.1 in c:\\users\\preeti\\anaconda3\\envs\\deeplearning\\lib\\site-packages (from tensorboard<2.12,>=2.11->tensorflow-intel==2.11.0->tensorflow) (2.2.2)\n",
      "Requirement already satisfied: tensorboard-data-server<0.7.0,>=0.6.0 in c:\\users\\preeti\\anaconda3\\envs\\deeplearning\\lib\\site-packages (from tensorboard<2.12,>=2.11->tensorflow-intel==2.11.0->tensorflow) (0.6.1)\n",
      "Requirement already satisfied: requests<3,>=2.21.0 in c:\\users\\preeti\\anaconda3\\envs\\deeplearning\\lib\\site-packages (from tensorboard<2.12,>=2.11->tensorflow-intel==2.11.0->tensorflow) (2.28.2)\n",
      "Requirement already satisfied: markdown>=2.6.8 in c:\\users\\preeti\\anaconda3\\envs\\deeplearning\\lib\\site-packages (from tensorboard<2.12,>=2.11->tensorflow-intel==2.11.0->tensorflow) (3.4.1)\n",
      "Requirement already satisfied: tensorboard-plugin-wit>=1.6.0 in c:\\users\\preeti\\anaconda3\\envs\\deeplearning\\lib\\site-packages (from tensorboard<2.12,>=2.11->tensorflow-intel==2.11.0->tensorflow) (1.8.1)\n",
      "Requirement already satisfied: google-auth-oauthlib<0.5,>=0.4.1 in c:\\users\\preeti\\anaconda3\\envs\\deeplearning\\lib\\site-packages (from tensorboard<2.12,>=2.11->tensorflow-intel==2.11.0->tensorflow) (0.4.6)\n",
      "Requirement already satisfied: cachetools<6.0,>=2.0.0 in c:\\users\\preeti\\anaconda3\\envs\\deeplearning\\lib\\site-packages (from google-auth<3,>=1.6.3->tensorboard<2.12,>=2.11->tensorflow-intel==2.11.0->tensorflow) (5.3.0)\n",
      "Requirement already satisfied: rsa<5,>=3.1.4 in c:\\users\\preeti\\anaconda3\\envs\\deeplearning\\lib\\site-packages (from google-auth<3,>=1.6.3->tensorboard<2.12,>=2.11->tensorflow-intel==2.11.0->tensorflow) (4.9)\n",
      "Requirement already satisfied: pyasn1-modules>=0.2.1 in c:\\users\\preeti\\anaconda3\\envs\\deeplearning\\lib\\site-packages (from google-auth<3,>=1.6.3->tensorboard<2.12,>=2.11->tensorflow-intel==2.11.0->tensorflow) (0.2.8)\n",
      "Requirement already satisfied: requests-oauthlib>=0.7.0 in c:\\users\\preeti\\anaconda3\\envs\\deeplearning\\lib\\site-packages (from google-auth-oauthlib<0.5,>=0.4.1->tensorboard<2.12,>=2.11->tensorflow-intel==2.11.0->tensorflow) (1.3.1)\n",
      "Requirement already satisfied: importlib-metadata>=4.4 in c:\\users\\preeti\\anaconda3\\envs\\deeplearning\\lib\\site-packages (from markdown>=2.6.8->tensorboard<2.12,>=2.11->tensorflow-intel==2.11.0->tensorflow) (6.0.0)\n",
      "Requirement already satisfied: charset-normalizer<4,>=2 in c:\\users\\preeti\\anaconda3\\envs\\deeplearning\\lib\\site-packages (from requests<3,>=2.21.0->tensorboard<2.12,>=2.11->tensorflow-intel==2.11.0->tensorflow) (3.0.1)\n",
      "Requirement already satisfied: idna<4,>=2.5 in c:\\users\\preeti\\anaconda3\\envs\\deeplearning\\lib\\site-packages (from requests<3,>=2.21.0->tensorboard<2.12,>=2.11->tensorflow-intel==2.11.0->tensorflow) (3.4)\n",
      "Requirement already satisfied: certifi>=2017.4.17 in c:\\users\\preeti\\anaconda3\\envs\\deeplearning\\lib\\site-packages (from requests<3,>=2.21.0->tensorboard<2.12,>=2.11->tensorflow-intel==2.11.0->tensorflow) (2022.12.7)\n",
      "Requirement already satisfied: urllib3<1.27,>=1.21.1 in c:\\users\\preeti\\anaconda3\\envs\\deeplearning\\lib\\site-packages (from requests<3,>=2.21.0->tensorboard<2.12,>=2.11->tensorflow-intel==2.11.0->tensorflow) (1.26.14)\n",
      "Requirement already satisfied: MarkupSafe>=2.1.1 in c:\\users\\preeti\\anaconda3\\envs\\deeplearning\\lib\\site-packages (from werkzeug>=1.0.1->tensorboard<2.12,>=2.11->tensorflow-intel==2.11.0->tensorflow) (2.1.1)\n",
      "Requirement already satisfied: zipp>=0.5 in c:\\users\\preeti\\anaconda3\\envs\\deeplearning\\lib\\site-packages (from importlib-metadata>=4.4->markdown>=2.6.8->tensorboard<2.12,>=2.11->tensorflow-intel==2.11.0->tensorflow) (3.12.0)\n",
      "Requirement already satisfied: pyasn1<0.5.0,>=0.4.6 in c:\\users\\preeti\\anaconda3\\envs\\deeplearning\\lib\\site-packages (from pyasn1-modules>=0.2.1->google-auth<3,>=1.6.3->tensorboard<2.12,>=2.11->tensorflow-intel==2.11.0->tensorflow) (0.4.8)\n",
      "Requirement already satisfied: oauthlib>=3.0.0 in c:\\users\\preeti\\anaconda3\\envs\\deeplearning\\lib\\site-packages (from requests-oauthlib>=0.7.0->google-auth-oauthlib<0.5,>=0.4.1->tensorboard<2.12,>=2.11->tensorflow-intel==2.11.0->tensorflow) (3.2.2)\n"
     ]
    },
    {
     "name": "stderr",
     "output_type": "stream",
     "text": [
      "WARNING: Ignoring invalid distribution -rotobuf (c:\\users\\preeti\\anaconda3\\envs\\deeplearning\\lib\\site-packages)\n",
      "WARNING: Ignoring invalid distribution -rotobuf (c:\\users\\preeti\\anaconda3\\envs\\deeplearning\\lib\\site-packages)\n",
      "WARNING: Ignoring invalid distribution -rotobuf (c:\\users\\preeti\\anaconda3\\envs\\deeplearning\\lib\\site-packages)\n",
      "WARNING: Ignoring invalid distribution -rotobuf (c:\\users\\preeti\\anaconda3\\envs\\deeplearning\\lib\\site-packages)\n",
      "WARNING: Ignoring invalid distribution -rotobuf (c:\\users\\preeti\\anaconda3\\envs\\deeplearning\\lib\\site-packages)\n",
      "WARNING: Ignoring invalid distribution -rotobuf (c:\\users\\preeti\\anaconda3\\envs\\deeplearning\\lib\\site-packages)\n"
     ]
    }
   ],
   "source": [
    "# install tensorflow Dont execute if already done\n",
    "!pip install tensorflow"
   ]
  },
  {
   "cell_type": "code",
   "execution_count": 2,
   "id": "8e7552a2",
   "metadata": {},
   "outputs": [
    {
     "name": "stdout",
     "output_type": "stream",
     "text": [
      "Requirement already satisfied: keras in c:\\users\\preeti\\anaconda3\\envs\\deeplearning\\lib\\site-packages (2.11.0)\n"
     ]
    },
    {
     "name": "stderr",
     "output_type": "stream",
     "text": [
      "WARNING: Ignoring invalid distribution -rotobuf (c:\\users\\preeti\\anaconda3\\envs\\deeplearning\\lib\\site-packages)\n",
      "WARNING: Ignoring invalid distribution -rotobuf (c:\\users\\preeti\\anaconda3\\envs\\deeplearning\\lib\\site-packages)\n",
      "WARNING: Ignoring invalid distribution -rotobuf (c:\\users\\preeti\\anaconda3\\envs\\deeplearning\\lib\\site-packages)\n",
      "WARNING: Ignoring invalid distribution -rotobuf (c:\\users\\preeti\\anaconda3\\envs\\deeplearning\\lib\\site-packages)\n",
      "WARNING: Ignoring invalid distribution -rotobuf (c:\\users\\preeti\\anaconda3\\envs\\deeplearning\\lib\\site-packages)\n",
      "WARNING: Ignoring invalid distribution -rotobuf (c:\\users\\preeti\\anaconda3\\envs\\deeplearning\\lib\\site-packages)\n"
     ]
    }
   ],
   "source": [
    "# install keras\n",
    "!pip install keras"
   ]
  },
  {
   "cell_type": "code",
   "execution_count": 3,
   "id": "27dd187d",
   "metadata": {},
   "outputs": [],
   "source": [
    "# import required libraries\n",
    "import tensorflow as tf\n",
    "from tensorflow import keras\n",
    "from keras.models import Sequential\n",
    "from keras.layers import Dense,Flatten\n",
    "import numpy as np\n",
    "import pandas as pd\n",
    "import matplotlib.pyplot as plt"
   ]
  },
  {
   "cell_type": "code",
   "execution_count": 4,
   "id": "1cf37858",
   "metadata": {},
   "outputs": [],
   "source": [
    "#load MNIST dataset\n",
    "(X_train,y_train),(X_test,y_test)=keras.datasets.mnist.load_data()"
   ]
  },
  {
   "cell_type": "code",
   "execution_count": 5,
   "id": "9910198b",
   "metadata": {},
   "outputs": [
    {
     "data": {
      "text/plain": [
       "60000"
      ]
     },
     "execution_count": 5,
     "metadata": {},
     "output_type": "execute_result"
    }
   ],
   "source": [
    "# Number of training samples\n",
    "len(X_train)"
   ]
  },
  {
   "cell_type": "code",
   "execution_count": 6,
   "id": "86cab13c",
   "metadata": {},
   "outputs": [
    {
     "data": {
      "text/plain": [
       "10000"
      ]
     },
     "execution_count": 6,
     "metadata": {},
     "output_type": "execute_result"
    }
   ],
   "source": [
    "# Number of testing samples\n",
    "len(X_test)"
   ]
  },
  {
   "cell_type": "code",
   "execution_count": 7,
   "id": "2bb33213",
   "metadata": {},
   "outputs": [
    {
     "data": {
      "text/plain": [
       "numpy.ndarray"
      ]
     },
     "execution_count": 7,
     "metadata": {},
     "output_type": "execute_result"
    }
   ],
   "source": [
    "# datatype\n",
    "type(X_train)"
   ]
  },
  {
   "cell_type": "code",
   "execution_count": 8,
   "id": "fda2fc7a",
   "metadata": {},
   "outputs": [
    {
     "data": {
      "text/plain": [
       "array([[  0,   0,   0,   0,   0,   0,   0,   0,   0,   0,   0,   0,   0,\n",
       "          0,   0,   0,   0,   0,   0,   0,   0,   0,   0,   0,   0,   0,\n",
       "          0,   0],\n",
       "       [  0,   0,   0,   0,   0,   0,   0,   0,   0,   0,   0,   0,   0,\n",
       "          0,   0,   0,   0,   0,   0,   0,   0,   0,   0,   0,   0,   0,\n",
       "          0,   0],\n",
       "       [  0,   0,   0,   0,   0,   0,   0,   0,   0,   0,   0,   0,   0,\n",
       "          0,   0,   0,   0,   0,   0,   0,   0,   0,   0,   0,   0,   0,\n",
       "          0,   0],\n",
       "       [  0,   0,   0,   0,   0,   0,   0,   0,   0,   0,   0,   0,   0,\n",
       "          0,   0,   0,   0,   0,   0,   0,   0,   0,   0,   0,   0,   0,\n",
       "          0,   0],\n",
       "       [  0,   0,   0,   0,   0,   0,   0,   0,   0,   0,   0,   0,   0,\n",
       "          0,   0,   0,   0,   0,   0,   0,   0,   0,   0,   0,   0,   0,\n",
       "          0,   0],\n",
       "       [  0,   0,   0,   0,   0,   0,   0,   0,   0,   0,   0,   0,   3,\n",
       "         18,  18,  18, 126, 136, 175,  26, 166, 255, 247, 127,   0,   0,\n",
       "          0,   0],\n",
       "       [  0,   0,   0,   0,   0,   0,   0,   0,  30,  36,  94, 154, 170,\n",
       "        253, 253, 253, 253, 253, 225, 172, 253, 242, 195,  64,   0,   0,\n",
       "          0,   0],\n",
       "       [  0,   0,   0,   0,   0,   0,   0,  49, 238, 253, 253, 253, 253,\n",
       "        253, 253, 253, 253, 251,  93,  82,  82,  56,  39,   0,   0,   0,\n",
       "          0,   0],\n",
       "       [  0,   0,   0,   0,   0,   0,   0,  18, 219, 253, 253, 253, 253,\n",
       "        253, 198, 182, 247, 241,   0,   0,   0,   0,   0,   0,   0,   0,\n",
       "          0,   0],\n",
       "       [  0,   0,   0,   0,   0,   0,   0,   0,  80, 156, 107, 253, 253,\n",
       "        205,  11,   0,  43, 154,   0,   0,   0,   0,   0,   0,   0,   0,\n",
       "          0,   0],\n",
       "       [  0,   0,   0,   0,   0,   0,   0,   0,   0,  14,   1, 154, 253,\n",
       "         90,   0,   0,   0,   0,   0,   0,   0,   0,   0,   0,   0,   0,\n",
       "          0,   0],\n",
       "       [  0,   0,   0,   0,   0,   0,   0,   0,   0,   0,   0, 139, 253,\n",
       "        190,   2,   0,   0,   0,   0,   0,   0,   0,   0,   0,   0,   0,\n",
       "          0,   0],\n",
       "       [  0,   0,   0,   0,   0,   0,   0,   0,   0,   0,   0,  11, 190,\n",
       "        253,  70,   0,   0,   0,   0,   0,   0,   0,   0,   0,   0,   0,\n",
       "          0,   0],\n",
       "       [  0,   0,   0,   0,   0,   0,   0,   0,   0,   0,   0,   0,  35,\n",
       "        241, 225, 160, 108,   1,   0,   0,   0,   0,   0,   0,   0,   0,\n",
       "          0,   0],\n",
       "       [  0,   0,   0,   0,   0,   0,   0,   0,   0,   0,   0,   0,   0,\n",
       "         81, 240, 253, 253, 119,  25,   0,   0,   0,   0,   0,   0,   0,\n",
       "          0,   0],\n",
       "       [  0,   0,   0,   0,   0,   0,   0,   0,   0,   0,   0,   0,   0,\n",
       "          0,  45, 186, 253, 253, 150,  27,   0,   0,   0,   0,   0,   0,\n",
       "          0,   0],\n",
       "       [  0,   0,   0,   0,   0,   0,   0,   0,   0,   0,   0,   0,   0,\n",
       "          0,   0,  16,  93, 252, 253, 187,   0,   0,   0,   0,   0,   0,\n",
       "          0,   0],\n",
       "       [  0,   0,   0,   0,   0,   0,   0,   0,   0,   0,   0,   0,   0,\n",
       "          0,   0,   0,   0, 249, 253, 249,  64,   0,   0,   0,   0,   0,\n",
       "          0,   0],\n",
       "       [  0,   0,   0,   0,   0,   0,   0,   0,   0,   0,   0,   0,   0,\n",
       "          0,  46, 130, 183, 253, 253, 207,   2,   0,   0,   0,   0,   0,\n",
       "          0,   0],\n",
       "       [  0,   0,   0,   0,   0,   0,   0,   0,   0,   0,   0,   0,  39,\n",
       "        148, 229, 253, 253, 253, 250, 182,   0,   0,   0,   0,   0,   0,\n",
       "          0,   0],\n",
       "       [  0,   0,   0,   0,   0,   0,   0,   0,   0,   0,  24, 114, 221,\n",
       "        253, 253, 253, 253, 201,  78,   0,   0,   0,   0,   0,   0,   0,\n",
       "          0,   0],\n",
       "       [  0,   0,   0,   0,   0,   0,   0,   0,  23,  66, 213, 253, 253,\n",
       "        253, 253, 198,  81,   2,   0,   0,   0,   0,   0,   0,   0,   0,\n",
       "          0,   0],\n",
       "       [  0,   0,   0,   0,   0,   0,  18, 171, 219, 253, 253, 253, 253,\n",
       "        195,  80,   9,   0,   0,   0,   0,   0,   0,   0,   0,   0,   0,\n",
       "          0,   0],\n",
       "       [  0,   0,   0,   0,  55, 172, 226, 253, 253, 253, 253, 244, 133,\n",
       "         11,   0,   0,   0,   0,   0,   0,   0,   0,   0,   0,   0,   0,\n",
       "          0,   0],\n",
       "       [  0,   0,   0,   0, 136, 253, 253, 253, 212, 135, 132,  16,   0,\n",
       "          0,   0,   0,   0,   0,   0,   0,   0,   0,   0,   0,   0,   0,\n",
       "          0,   0],\n",
       "       [  0,   0,   0,   0,   0,   0,   0,   0,   0,   0,   0,   0,   0,\n",
       "          0,   0,   0,   0,   0,   0,   0,   0,   0,   0,   0,   0,   0,\n",
       "          0,   0],\n",
       "       [  0,   0,   0,   0,   0,   0,   0,   0,   0,   0,   0,   0,   0,\n",
       "          0,   0,   0,   0,   0,   0,   0,   0,   0,   0,   0,   0,   0,\n",
       "          0,   0],\n",
       "       [  0,   0,   0,   0,   0,   0,   0,   0,   0,   0,   0,   0,   0,\n",
       "          0,   0,   0,   0,   0,   0,   0,   0,   0,   0,   0,   0,   0,\n",
       "          0,   0]], dtype=uint8)"
      ]
     },
     "execution_count": 8,
     "metadata": {},
     "output_type": "execute_result"
    }
   ],
   "source": [
    "# Accessing individual samples\n",
    "X_train[0]"
   ]
  },
  {
   "cell_type": "code",
   "execution_count": 9,
   "id": "96c1179f",
   "metadata": {},
   "outputs": [
    {
     "data": {
      "text/plain": [
       "(60000, 28, 28)"
      ]
     },
     "execution_count": 9,
     "metadata": {},
     "output_type": "execute_result"
    }
   ],
   "source": [
    "# Shape of the training data\n",
    "X_train.shape"
   ]
  },
  {
   "cell_type": "code",
   "execution_count": 10,
   "id": "5e5e871e",
   "metadata": {},
   "outputs": [
    {
     "data": {
      "text/plain": [
       "(28, 28)"
      ]
     },
     "execution_count": 10,
     "metadata": {},
     "output_type": "execute_result"
    }
   ],
   "source": [
    "# shape of individual sample\n",
    "X_train[0].shape"
   ]
  },
  {
   "cell_type": "code",
   "execution_count": 11,
   "id": "1701bbb2",
   "metadata": {},
   "outputs": [
    {
     "data": {
      "text/plain": [
       "<matplotlib.image.AxesImage at 0x2294ad9fb80>"
      ]
     },
     "execution_count": 11,
     "metadata": {},
     "output_type": "execute_result"
    },
    {
     "data": {
      "image/png": "[encoded data removed]",
      "text/plain": [
       "<Figure size 640x480 with 1 Axes>"
      ]
     },
     "metadata": {},
     "output_type": "display_data"
    }
   ],
   "source": [
    "# Show the gray scale image of handwritten digit\n",
    "plt.imshow(X_train[0], cmap='gray')"
   ]
  },
  {
   "cell_type": "code",
   "execution_count": 12,
   "id": "532215e7",
   "metadata": {},
   "outputs": [
    {
     "data": {
      "text/plain": [
       "5"
      ]
     },
     "execution_count": 12,
     "metadata": {},
     "output_type": "execute_result"
    }
   ],
   "source": [
    "# check the corresponding label\n",
    "y_train[0]"
   ]
  },
  {
   "cell_type": "code",
   "execution_count": 13,
   "id": "54447af9",
   "metadata": {},
   "outputs": [
    {
     "data": {
      "text/plain": [
       "(60000,)"
      ]
     },
     "execution_count": 13,
     "metadata": {},
     "output_type": "execute_result"
    }
   ],
   "source": [
    "# shape of training labels\n",
    "y_train.shape"
   ]
  },
  {
   "cell_type": "code",
   "execution_count": 14,
   "id": "78e5cfa3",
   "metadata": {},
   "outputs": [],
   "source": [
    "# Normalizing each pixel value in between 0 and 1\n",
    "X_train=X_train/255\n",
    "X_test=X_test/255"
   ]
  },
  {
   "cell_type": "code",
   "execution_count": 15,
   "id": "802209d0",
   "metadata": {},
   "outputs": [
    {
     "data": {
      "text/plain": [
       "array([[0.        , 0.        , 0.        , 0.        , 0.        ,\n",
       "        0.        , 0.        , 0.        , 0.        , 0.        ,\n",
       "        0.        , 0.        , 0.        , 0.        , 0.        ,\n",
       "        0.        , 0.        , 0.        , 0.        , 0.        ,\n",
       "        0.        , 0.        , 0.        , 0.        , 0.        ,\n",
       "        0.        , 0.        , 0.        ],\n",
       "       [0.        , 0.        , 0.        , 0.        , 0.        ,\n",
       "        0.        , 0.        , 0.        , 0.        , 0.        ,\n",
       "        0.        , 0.        , 0.        , 0.        , 0.        ,\n",
       "        0.        , 0.        , 0.        , 0.        , 0.        ,\n",
       "        0.        , 0.        , 0.        , 0.        , 0.        ,\n",
       "        0.        , 0.        , 0.        ],\n",
       "       [0.        , 0.        , 0.        , 0.        , 0.        ,\n",
       "        0.        , 0.        , 0.        , 0.        , 0.        ,\n",
       "        0.        , 0.        , 0.        , 0.        , 0.        ,\n",
       "        0.        , 0.        , 0.        , 0.        , 0.        ,\n",
       "        0.        , 0.        , 0.        , 0.        , 0.        ,\n",
       "        0.        , 0.        , 0.        ],\n",
       "       [0.        , 0.        , 0.        , 0.        , 0.        ,\n",
       "        0.        , 0.        , 0.        , 0.        , 0.        ,\n",
       "        0.        , 0.        , 0.        , 0.        , 0.        ,\n",
       "        0.        , 0.        , 0.        , 0.        , 0.        ,\n",
       "        0.        , 0.        , 0.        , 0.        , 0.        ,\n",
       "        0.        , 0.        , 0.        ],\n",
       "       [0.        , 0.        , 0.        , 0.        , 0.        ,\n",
       "        0.        , 0.        , 0.        , 0.        , 0.        ,\n",
       "        0.        , 0.        , 0.        , 0.        , 0.        ,\n",
       "        0.        , 0.        , 0.        , 0.        , 0.        ,\n",
       "        0.        , 0.        , 0.        , 0.        , 0.        ,\n",
       "        0.        , 0.        , 0.        ],\n",
       "       [0.        , 0.        , 0.        , 0.        , 0.        ,\n",
       "        0.        , 0.        , 0.        , 0.        , 0.        ,\n",
       "        0.        , 0.        , 0.01176471, 0.07058824, 0.07058824,\n",
       "        0.07058824, 0.49411765, 0.53333333, 0.68627451, 0.10196078,\n",
       "        0.65098039, 1.        , 0.96862745, 0.49803922, 0.        ,\n",
       "        0.        , 0.        , 0.        ],\n",
       "       [0.        , 0.        , 0.        , 0.        , 0.        ,\n",
       "        0.        , 0.        , 0.        , 0.11764706, 0.14117647,\n",
       "        0.36862745, 0.60392157, 0.66666667, 0.99215686, 0.99215686,\n",
       "        0.99215686, 0.99215686, 0.99215686, 0.88235294, 0.6745098 ,\n",
       "        0.99215686, 0.94901961, 0.76470588, 0.25098039, 0.        ,\n",
       "        0.        , 0.        , 0.        ],\n",
       "       [0.        , 0.        , 0.        , 0.        , 0.        ,\n",
       "        0.        , 0.        , 0.19215686, 0.93333333, 0.99215686,\n",
       "        0.99215686, 0.99215686, 0.99215686, 0.99215686, 0.99215686,\n",
       "        0.99215686, 0.99215686, 0.98431373, 0.36470588, 0.32156863,\n",
       "        0.32156863, 0.21960784, 0.15294118, 0.        , 0.        ,\n",
       "        0.        , 0.        , 0.        ],\n",
       "       [0.        , 0.        , 0.        , 0.        , 0.        ,\n",
       "        0.        , 0.        , 0.07058824, 0.85882353, 0.99215686,\n",
       "        0.99215686, 0.99215686, 0.99215686, 0.99215686, 0.77647059,\n",
       "        0.71372549, 0.96862745, 0.94509804, 0.        , 0.        ,\n",
       "        0.        , 0.        , 0.        , 0.        , 0.        ,\n",
       "        0.        , 0.        , 0.        ],\n",
       "       [0.        , 0.        , 0.        , 0.        , 0.        ,\n",
       "        0.        , 0.        , 0.        , 0.31372549, 0.61176471,\n",
       "        0.41960784, 0.99215686, 0.99215686, 0.80392157, 0.04313725,\n",
       "        0.        , 0.16862745, 0.60392157, 0.        , 0.        ,\n",
       "        0.        , 0.        , 0.        , 0.        , 0.        ,\n",
       "        0.        , 0.        , 0.        ],\n",
       "       [0.        , 0.        , 0.        , 0.        , 0.        ,\n",
       "        0.        , 0.        , 0.        , 0.        , 0.05490196,\n",
       "        0.00392157, 0.60392157, 0.99215686, 0.35294118, 0.        ,\n",
       "        0.        , 0.        , 0.        , 0.        , 0.        ,\n",
       "        0.        , 0.        , 0.        , 0.        , 0.        ,\n",
       "        0.        , 0.        , 0.        ],\n",
       "       [0.        , 0.        , 0.        , 0.        , 0.        ,\n",
       "        0.        , 0.        , 0.        , 0.        , 0.        ,\n",
       "        0.        , 0.54509804, 0.99215686, 0.74509804, 0.00784314,\n",
       "        0.        , 0.        , 0.        , 0.        , 0.        ,\n",
       "        0.        , 0.        , 0.        , 0.        , 0.        ,\n",
       "        0.        , 0.        , 0.        ],\n",
       "       [0.        , 0.        , 0.        , 0.        , 0.        ,\n",
       "        0.        , 0.        , 0.        , 0.        , 0.        ,\n",
       "        0.        , 0.04313725, 0.74509804, 0.99215686, 0.2745098 ,\n",
       "        0.        , 0.        , 0.        , 0.        , 0.        ,\n",
       "        0.        , 0.        , 0.        , 0.        , 0.        ,\n",
       "        0.        , 0.        , 0.        ],\n",
       "       [0.        , 0.        , 0.        , 0.        , 0.        ,\n",
       "        0.        , 0.        , 0.        , 0.        , 0.        ,\n",
       "        0.        , 0.        , 0.1372549 , 0.94509804, 0.88235294,\n",
       "        0.62745098, 0.42352941, 0.00392157, 0.        , 0.        ,\n",
       "        0.        , 0.        , 0.        , 0.        , 0.        ,\n",
       "        0.        , 0.        , 0.        ],\n",
       "       [0.        , 0.        , 0.        , 0.        , 0.        ,\n",
       "        0.        , 0.        , 0.        , 0.        , 0.        ,\n",
       "        0.        , 0.        , 0.        , 0.31764706, 0.94117647,\n",
       "        0.99215686, 0.99215686, 0.46666667, 0.09803922, 0.        ,\n",
       "        0.        , 0.        , 0.        , 0.        , 0.        ,\n",
       "        0.        , 0.        , 0.        ],\n",
       "       [0.        , 0.        , 0.        , 0.        , 0.        ,\n",
       "        0.        , 0.        , 0.        , 0.        , 0.        ,\n",
       "        0.        , 0.        , 0.        , 0.        , 0.17647059,\n",
       "        0.72941176, 0.99215686, 0.99215686, 0.58823529, 0.10588235,\n",
       "        0.        , 0.        , 0.        , 0.        , 0.        ,\n",
       "        0.        , 0.        , 0.        ],\n",
       "       [0.        , 0.        , 0.        , 0.        , 0.        ,\n",
       "        0.        , 0.        , 0.        , 0.        , 0.        ,\n",
       "        0.        , 0.        , 0.        , 0.        , 0.        ,\n",
       "        0.0627451 , 0.36470588, 0.98823529, 0.99215686, 0.73333333,\n",
       "        0.        , 0.        , 0.        , 0.        , 0.        ,\n",
       "        0.        , 0.        , 0.        ],\n",
       "       [0.        , 0.        , 0.        , 0.        , 0.        ,\n",
       "        0.        , 0.        , 0.        , 0.        , 0.        ,\n",
       "        0.        , 0.        , 0.        , 0.        , 0.        ,\n",
       "        0.        , 0.        , 0.97647059, 0.99215686, 0.97647059,\n",
       "        0.25098039, 0.        , 0.        , 0.        , 0.        ,\n",
       "        0.        , 0.        , 0.        ],\n",
       "       [0.        , 0.        , 0.        , 0.        , 0.        ,\n",
       "        0.        , 0.        , 0.        , 0.        , 0.        ,\n",
       "        0.        , 0.        , 0.        , 0.        , 0.18039216,\n",
       "        0.50980392, 0.71764706, 0.99215686, 0.99215686, 0.81176471,\n",
       "        0.00784314, 0.        , 0.        , 0.        , 0.        ,\n",
       "        0.        , 0.        , 0.        ],\n",
       "       [0.        , 0.        , 0.        , 0.        , 0.        ,\n",
       "        0.        , 0.        , 0.        , 0.        , 0.        ,\n",
       "        0.        , 0.        , 0.15294118, 0.58039216, 0.89803922,\n",
       "        0.99215686, 0.99215686, 0.99215686, 0.98039216, 0.71372549,\n",
       "        0.        , 0.        , 0.        , 0.        , 0.        ,\n",
       "        0.        , 0.        , 0.        ],\n",
       "       [0.        , 0.        , 0.        , 0.        , 0.        ,\n",
       "        0.        , 0.        , 0.        , 0.        , 0.        ,\n",
       "        0.09411765, 0.44705882, 0.86666667, 0.99215686, 0.99215686,\n",
       "        0.99215686, 0.99215686, 0.78823529, 0.30588235, 0.        ,\n",
       "        0.        , 0.        , 0.        , 0.        , 0.        ,\n",
       "        0.        , 0.        , 0.        ],\n",
       "       [0.        , 0.        , 0.        , 0.        , 0.        ,\n",
       "        0.        , 0.        , 0.        , 0.09019608, 0.25882353,\n",
       "        0.83529412, 0.99215686, 0.99215686, 0.99215686, 0.99215686,\n",
       "        0.77647059, 0.31764706, 0.00784314, 0.        , 0.        ,\n",
       "        0.        , 0.        , 0.        , 0.        , 0.        ,\n",
       "        0.        , 0.        , 0.        ],\n",
       "       [0.        , 0.        , 0.        , 0.        , 0.        ,\n",
       "        0.        , 0.07058824, 0.67058824, 0.85882353, 0.99215686,\n",
       "        0.99215686, 0.99215686, 0.99215686, 0.76470588, 0.31372549,\n",
       "        0.03529412, 0.        , 0.        , 0.        , 0.        ,\n",
       "        0.        , 0.        , 0.        , 0.        , 0.        ,\n",
       "        0.        , 0.        , 0.        ],\n",
       "       [0.        , 0.        , 0.        , 0.        , 0.21568627,\n",
       "        0.6745098 , 0.88627451, 0.99215686, 0.99215686, 0.99215686,\n",
       "        0.99215686, 0.95686275, 0.52156863, 0.04313725, 0.        ,\n",
       "        0.        , 0.        , 0.        , 0.        , 0.        ,\n",
       "        0.        , 0.        , 0.        , 0.        , 0.        ,\n",
       "        0.        , 0.        , 0.        ],\n",
       "       [0.        , 0.        , 0.        , 0.        , 0.53333333,\n",
       "        0.99215686, 0.99215686, 0.99215686, 0.83137255, 0.52941176,\n",
       "        0.51764706, 0.0627451 , 0.        , 0.        , 0.        ,\n",
       "        0.        , 0.        , 0.        , 0.        , 0.        ,\n",
       "        0.        , 0.        , 0.        , 0.        , 0.        ,\n",
       "        0.        , 0.        , 0.        ],\n",
       "       [0.        , 0.        , 0.        , 0.        , 0.        ,\n",
       "        0.        , 0.        , 0.        , 0.        , 0.        ,\n",
       "        0.        , 0.        , 0.        , 0.        , 0.        ,\n",
       "        0.        , 0.        , 0.        , 0.        , 0.        ,\n",
       "        0.        , 0.        , 0.        , 0.        , 0.        ,\n",
       "        0.        , 0.        , 0.        ],\n",
       "       [0.        , 0.        , 0.        , 0.        , 0.        ,\n",
       "        0.        , 0.        , 0.        , 0.        , 0.        ,\n",
       "        0.        , 0.        , 0.        , 0.        , 0.        ,\n",
       "        0.        , 0.        , 0.        , 0.        , 0.        ,\n",
       "        0.        , 0.        , 0.        , 0.        , 0.        ,\n",
       "        0.        , 0.        , 0.        ],\n",
       "       [0.        , 0.        , 0.        , 0.        , 0.        ,\n",
       "        0.        , 0.        , 0.        , 0.        , 0.        ,\n",
       "        0.        , 0.        , 0.        , 0.        , 0.        ,\n",
       "        0.        , 0.        , 0.        , 0.        , 0.        ,\n",
       "        0.        , 0.        , 0.        , 0.        , 0.        ,\n",
       "        0.        , 0.        , 0.        ]])"
      ]
     },
     "execution_count": 15,
     "metadata": {},
     "output_type": "execute_result"
    }
   ],
   "source": [
    "# Sample data post normalization\n",
    "X_train[0]"
   ]
  },
  {
   "cell_type": "code",
   "execution_count": 16,
   "id": "61184510",
   "metadata": {},
   "outputs": [
    {
     "name": "stdout",
     "output_type": "stream",
     "text": [
      "Model: \"sequential\"\n",
      "_________________________________________________________________\n",
      " Layer (type)                Output Shape              Param #   \n",
      "=================================================================\n",
      " flatten (Flatten)           (None, 784)               0         \n",
      "                                                                 \n",
      " dense (Dense)               (None, 150)               117750    \n",
      "                                                                 \n",
      " dense_1 (Dense)             (None, 100)               15100     \n",
      "                                                                 \n",
      " dense_2 (Dense)             (None, 10)                1010      \n",
      "                                                                 \n",
      "=================================================================\n",
      "Total params: 133,860\n",
      "Trainable params: 133,860\n",
      "Non-trainable params: 0\n",
      "_________________________________________________________________\n"
     ]
    }
   ],
   "source": [
    "# Building an ANN model\n",
    "'''\n",
    "firstly we initialize a sequential model.\n",
    "Sequential() initializes a linear stack of layers in the model. \n",
    "This is suitable for a plain stack of layers \n",
    "where each layer has exactly one input tensor and one output tenso\n",
    "'''\n",
    "model=Sequential()\n",
    "\n",
    "\n",
    "'''\n",
    "Flatten is used to transform the 2D input of 28x28 pixels into a 1D array. \n",
    "This is necessary because the following Dense layers expect 1D input\n",
    "'''\n",
    "model.add(Flatten(input_shape=(28,28)))\n",
    "\n",
    "'''\n",
    "Dense adds a fully connected neural network layer with 150 units (or neurons). \n",
    "The activation='relu' parameter applies the Rectified Linear Unit (ReLU) activation function, \n",
    "which introduces non-linearity to the model, allowing it to learn more complex patterns1.\n",
    "'''\n",
    "model.add(Dense(units=150,activation='relu'))\n",
    "\n",
    "\n",
    "\n",
    "'''\n",
    "Another Dense layer with 100 units and ReLU activation. \n",
    "This additional layer increases the model’s capacity to learn from the data.\n",
    "'''\n",
    "model.add(Dense(units=100,activation='relu'))\n",
    "\n",
    "\n",
    "\n",
    "'''\n",
    "The final Dense layer has 10 units, corresponding to the 10 classes of digits (0-9). \n",
    "The activation='softmax' parameter applies the softmax function,\n",
    "which is used for multi-class classification problems. \n",
    "It outputs a probability distribution over the 10 classes\n",
    "'''\n",
    "model.add(Dense(units=10,activation='softmax'))\n",
    "\n",
    "# summarizing the model\n",
    "model.summary()"
   ]
  },
  {
   "cell_type": "code",
   "execution_count": 17,
   "id": "a15d51f6",
   "metadata": {},
   "outputs": [
    {
     "data": {
      "text/plain": [
       "\"\\nThe model.compile method is configuring the model for training.\\n\\noptimizer SGD-- SGD stands for Stochastic Gradient Descent, \\na method for optimizing the model’s weights incrementally based on the training data.\\n\\nloss sparse_categorical_crossentropy-- This is the loss function used to measure how well the \\nmodel is performing. \\nSparse categorical crossentropy is used when your classes are mutually exclusive \\n(e.g., when each sample belongs exactly to one class), and the labels are provided as integers.\\n\\nmetrics=['accuracy']: Metrics are used to monitor the training and testing steps. \\nAccuracy is one of the most common metrics, and it calculates how often predictions equal labels.\\n\""
      ]
     },
     "execution_count": 17,
     "metadata": {},
     "output_type": "execute_result"
    }
   ],
   "source": [
    "# configuring the model\n",
    "model.compile(optimizer='SGD', loss='sparse_categorical_crossentropy', metrics=['accuracy'])\n",
    "\n",
    "'''\n",
    "The model.compile method is configuring the model for training.\n",
    "\n",
    "optimizer SGD-- SGD stands for Stochastic Gradient Descent, \n",
    "a method for optimizing the model’s weights incrementally based on the training data.\n",
    "\n",
    "loss sparse_categorical_crossentropy-- This is the loss function used to measure how well the \n",
    "model is performing. \n",
    "Sparse categorical crossentropy is used when your classes are mutually exclusive \n",
    "(e.g., when each sample belongs exactly to one class), and the labels are provided as integers.\n",
    "\n",
    "metrics=['accuracy']: Metrics are used to monitor the training and testing steps. \n",
    "Accuracy is one of the most common metrics, and it calculates how often predictions equal labels.\n",
    "'''"
   ]
  },
  {
   "cell_type": "code",
   "execution_count": 18,
   "id": "c57e2d44",
   "metadata": {},
   "outputs": [
    {
     "name": "stdout",
     "output_type": "stream",
     "text": [
      "Epoch 1/10\n",
      "1500/1500 [==============================] - 4s 3ms/step - loss: 0.7036 - accuracy: 0.8183 - val_loss: 0.3298 - val_accuracy: 0.9080\n",
      "Epoch 2/10\n",
      "1500/1500 [==============================] - 3s 2ms/step - loss: 0.3145 - accuracy: 0.9120 - val_loss: 0.2685 - val_accuracy: 0.9239\n",
      "Epoch 3/10\n",
      "1500/1500 [==============================] - 3s 2ms/step - loss: 0.2642 - accuracy: 0.9256 - val_loss: 0.2354 - val_accuracy: 0.9309\n",
      "Epoch 4/10\n",
      "1500/1500 [==============================] - 3s 2ms/step - loss: 0.2298 - accuracy: 0.9353 - val_loss: 0.2102 - val_accuracy: 0.9398\n",
      "Epoch 5/10\n",
      "1500/1500 [==============================] - 3s 2ms/step - loss: 0.2039 - accuracy: 0.9422 - val_loss: 0.1893 - val_accuracy: 0.9465\n",
      "Epoch 6/10\n",
      "1500/1500 [==============================] - 3s 2ms/step - loss: 0.1829 - accuracy: 0.9474 - val_loss: 0.1754 - val_accuracy: 0.9498\n",
      "Epoch 7/10\n",
      "1500/1500 [==============================] - 4s 3ms/step - loss: 0.1651 - accuracy: 0.9525 - val_loss: 0.1647 - val_accuracy: 0.9527\n",
      "Epoch 8/10\n",
      "1500/1500 [==============================] - 5s 3ms/step - loss: 0.1504 - accuracy: 0.9573 - val_loss: 0.1530 - val_accuracy: 0.9581\n",
      "Epoch 9/10\n",
      "1500/1500 [==============================] - 4s 3ms/step - loss: 0.1379 - accuracy: 0.9607 - val_loss: 0.1437 - val_accuracy: 0.9600\n",
      "Epoch 10/10\n",
      "1500/1500 [==============================] - 4s 2ms/step - loss: 0.1268 - accuracy: 0.9635 - val_loss: 0.1374 - val_accuracy: 0.9617\n"
     ]
    },
    {
     "data": {
      "text/plain": [
       "'\\nThe model.fit function is used to train the model for a fixed number of epochs \\n(iterations on a dataset). \\n\\nX_train: The input data, which in the case of MNIST, \\n\\ny_train: indicating the digit each image represents.\\n\\nepochs=10: This specifies that the model should be trained for 10 complete passes \\nthrough the entire training dataset.\\n\\nvalidation_split=0.2: This tells Keras to set aside 20% of the training data as a validation set. \\nThe model will not train on this data, but it will report the loss and any other metrics specified \\nin model.compile on this data after each epoch.\\n\\nverbose=1: This sets the verbosity mode. verbose=1 will show a progress bar during training.\\nA progress bar and one line per epoch are shown. \\nIt’s the most common setting as it gives feedback about the training progress.\\n'"
      ]
     },
     "execution_count": 18,
     "metadata": {},
     "output_type": "execute_result"
    }
   ],
   "source": [
    "# model training\n",
    "model.fit(X_train,y_train,epochs=10,validation_split=0.2,verbose=1)\n",
    "\n",
    "'''\n",
    "The model.fit function is used to train the model for a fixed number of epochs \n",
    "(iterations on a dataset). \n",
    "\n",
    "X_train: The input data, which in the case of MNIST, \n",
    "\n",
    "y_train: indicating the digit each image represents.\n",
    "\n",
    "epochs=10: This specifies that the model should be trained for 10 complete passes \n",
    "through the entire training dataset.\n",
    "\n",
    "validation_split=0.2: This tells Keras to set aside 20% of the training data as a validation set. \n",
    "The model will not train on this data, but it will report the loss and any other metrics specified \n",
    "in model.compile on this data after each epoch.\n",
    "\n",
    "verbose=1: This sets the verbosity mode. verbose=1 will show a progress bar during training.\n",
    "A progress bar and one line per epoch are shown. \n",
    "It’s the most common setting as it gives feedback about the training progress.\n",
    "'''"
   ]
  },
  {
   "cell_type": "code",
   "execution_count": 19,
   "id": "da65dd1e",
   "metadata": {},
   "outputs": [
    {
     "data": {
      "text/plain": [
       "'\\nloss: This column represents the value of the loss function after each epoch for the training set. \\nThe loss function quantifies how well the model is performing; \\na lower loss indicates better performance.\\n\\naccuracy: This column shows the accuracy metric for the training set after each epoch. \\nIt measures the percentage of correct predictions made by the model.\\n\\nval_loss: This stands for “validation loss” and represents the value of the loss function \\nfor the validation set.\\nThe validation set is a portion of the data not used in training, \\nwhich helps evaluate the model’s performance.\\n\\nval_accuracy: Similar to accuracy, this is the accuracy metric, \\nbut for the validation set. \\nIt measures how accurately the model is predicting on data it hasn’t been trained on.\\n'"
      ]
     },
     "execution_count": 19,
     "metadata": {},
     "output_type": "execute_result"
    }
   ],
   "source": [
    "# Model training history parameters\n",
    "'''\n",
    "create a pandas DataFrame named result from the training history \n",
    "data stored in model.history.history. \n",
    "\n",
    "This data typically includes information about the loss and accuracy of the model \n",
    "for each epoch during training.\n",
    "'''\n",
    "result=pd.DataFrame(model.history.history)\n",
    "\n",
    "#print result\n",
    "result\n",
    "\n",
    "'''\n",
    "loss: This column represents the value of the loss function after each epoch for the training set. \n",
    "The loss function quantifies how well the model is performing; \n",
    "a lower loss indicates better performance.\n",
    "\n",
    "accuracy: This column shows the accuracy metric for the training set after each epoch. \n",
    "It measures the percentage of correct predictions made by the model.\n",
    "\n",
    "val_loss: This stands for “validation loss” and represents the value of the loss function \n",
    "for the validation set.\n",
    "The validation set is a portion of the data not used in training, \n",
    "which helps evaluate the model’s performance.\n",
    "\n",
    "val_accuracy: Similar to accuracy, this is the accuracy metric, \n",
    "but for the validation set. \n",
    "It measures how accurately the model is predicting on data it hasn’t been trained on.\n",
    "'''"
   ]
  },
  {
   "cell_type": "code",
   "execution_count": 20,
   "id": "15178ebd",
   "metadata": {},
   "outputs": [
    {
     "data": {
      "text/plain": [
       "<AxesSubplot: >"
      ]
     },
     "execution_count": 20,
     "metadata": {},
     "output_type": "execute_result"
    },
    {
     "data": {
      "image/png": "[encoded data removed]",
      "text/plain": [
       "<Figure size 640x480 with 1 Axes>"
      ]
     },
     "metadata": {},
     "output_type": "display_data"
    }
   ],
   "source": [
    "# visualising the training history\n",
    "result.plot()"
   ]
  },
  {
   "cell_type": "code",
   "execution_count": 21,
   "id": "7f19e031",
   "metadata": {},
   "outputs": [
    {
     "name": "stdout",
     "output_type": "stream",
     "text": [
      "313/313 [==============================] - 0s 1ms/step\n"
     ]
    },
    {
     "data": {
      "text/plain": [
       "'\\n313/313: This indicates that the prediction process has been completed for all 313 batches of data.\\nThe number 313 is the total number of batches that the test data was split \\ninto for the prediction process.\\n'"
      ]
     },
     "execution_count": 21,
     "metadata": {},
     "output_type": "execute_result"
    }
   ],
   "source": [
    "# prediction on test data\n",
    "# to make predictions with the trained model on the test dataset X_test\n",
    "y_pred=model.predict(X_test)\n",
    "\n",
    "'''\n",
    "313/313: This indicates that the prediction process has been completed for all 313 batches of data.\n",
    "The number 313 is the total number of batches that the test data was split \n",
    "into for the prediction process.\n",
    "'''"
   ]
  },
  {
   "cell_type": "code",
   "execution_count": 22,
   "id": "f38f8ce6",
   "metadata": {},
   "outputs": [
    {
     "data": {
      "text/plain": [
       "'\\ny_pred, will be an array containing the predicted probabilities or \\nclass labels for each instance in the X_test dataset. \\n\\n model is a classification model with a softmax activation function in the last layer \\n(as is common with MNIST), y_pred will contain a probability distribution over \\nthe classes for each instance. \\n\\nuse these probabilities to determine the most likely class \\nfor each instance by selecting the class with the highest probability.\\n'"
      ]
     },
     "execution_count": 22,
     "metadata": {},
     "output_type": "execute_result"
    }
   ],
   "source": [
    "# print the predicted values\n",
    "y_pred\n",
    "\n",
    "'''\n",
    "y_pred, will be an array containing the predicted probabilities or \n",
    "class labels for each instance in the X_test dataset. \n",
    "\n",
    " model is a classification model with a softmax activation function in the last layer \n",
    "(as is common with MNIST), y_pred will contain a probability distribution over \n",
    "the classes for each instance. \n",
    "\n",
    "use these probabilities to determine the most likely class \n",
    "for each instance by selecting the class with the highest probability.\n",
    "'''"
   ]
  },
  {
   "cell_type": "code",
   "execution_count": 23,
   "id": "54c1c077",
   "metadata": {},
   "outputs": [
    {
     "data": {
      "text/plain": [
       "(10000, 10)"
      ]
     },
     "execution_count": 23,
     "metadata": {},
     "output_type": "execute_result"
    }
   ],
   "source": [
    "# check shape\n",
    "y_pred.shape"
   ]
  },
  {
   "cell_type": "markdown",
   "id": "738baa97",
   "metadata": {},
   "source": [
    "# Test for a random sample"
   ]
  },
  {
   "cell_type": "code",
   "execution_count": 24,
   "id": "84d88f5a",
   "metadata": {
    "colab": {
     "base_uri": "https://localhost:8080/",
     "height": 282
    },
    "id": "CayeiuS2eE7u",
    "outputId": "47030f18-90bd-40c2-f428-0ece3e4a0f72"
   },
   "outputs": [
    {
     "data": {
      "text/plain": [
       "<matplotlib.image.AxesImage at 0x2294aabca30>"
      ]
     },
     "execution_count": 24,
     "metadata": {},
     "output_type": "execute_result"
    },
    {
     "data": {
      "image/png": "[encoded data removed]",
      "text/plain": [
       "<Figure size 640x480 with 1 Axes>"
      ]
     },
     "metadata": {},
     "output_type": "display_data"
    }
   ],
   "source": [
    "plt.imshow(X_test[1],cmap='gray')"
   ]
  },
  {
   "cell_type": "code",
   "execution_count": 25,
   "id": "e1e816b2",
   "metadata": {
    "colab": {
     "base_uri": "https://localhost:8080/"
    },
    "id": "EkFFb4GheNf3",
    "outputId": "7849b3ed-ab7a-4aff-c3d1-6023bea20725"
   },
   "outputs": [
    {
     "data": {
      "text/plain": [
       "2"
      ]
     },
     "execution_count": 25,
     "metadata": {},
     "output_type": "execute_result"
    }
   ],
   "source": [
    "y_test[1]"
   ]
  },
  {
   "cell_type": "code",
   "execution_count": 26,
   "id": "a02b4ea2",
   "metadata": {
    "colab": {
     "base_uri": "https://localhost:8080/"
    },
    "id": "losTyv1geQot",
    "outputId": "21c96ef7-59c3-4df4-905c-f302ae8ac876"
   },
   "outputs": [
    {
     "data": {
      "text/plain": [
       "array([8.7541885e-05, 8.2914848e-05, 9.9000812e-01, 9.5252506e-03,\n",
       "       9.4908559e-10, 9.7444936e-05, 9.1153379e-05, 4.7601407e-09,\n",
       "       1.0760342e-04, 2.9728602e-09], dtype=float32)"
      ]
     },
     "execution_count": 26,
     "metadata": {},
     "output_type": "execute_result"
    }
   ],
   "source": [
    "# prediction probability for each digit\n",
    "y_pred[1]"
   ]
  },
  {
   "cell_type": "code",
   "execution_count": 27,
   "id": "c044ebee",
   "metadata": {
    "colab": {
     "base_uri": "https://localhost:8080/"
    },
    "id": "lIf1ksseebi-",
    "outputId": "2a49518b-23dc-4ca4-b94f-b68395120f43"
   },
   "outputs": [
    {
     "data": {
      "text/plain": [
       "2"
      ]
     },
     "execution_count": 27,
     "metadata": {},
     "output_type": "execute_result"
    }
   ],
   "source": [
    "# predicted digit for the given test sample will be the one with highest prediction probability\n",
    "np.argmax(y_pred[1])"
   ]
  },
  {
   "cell_type": "code",
   "execution_count": 28,
   "id": "a3403025",
   "metadata": {
    "colab": {
     "base_uri": "https://localhost:8080/"
    },
    "id": "wfl9Wh3q2ePV",
    "outputId": "aee14acf-4aa5-4445-c226-f7e653e4d65a"
   },
   "outputs": [
    {
     "data": {
      "text/plain": [
       "array([7, 2, 1, ..., 4, 5, 6], dtype=int64)"
      ]
     },
     "execution_count": 28,
     "metadata": {},
     "output_type": "execute_result"
    }
   ],
   "source": [
    "# getting predicted labels (predicted hand written digits) for all the test samples\n",
    "final_y_predicted=np.argmax(y_pred,axis=1)\n",
    "final_y_predicted"
   ]
  },
  {
   "cell_type": "code",
   "execution_count": 29,
   "id": "00b29032",
   "metadata": {
    "colab": {
     "base_uri": "https://localhost:8080/"
    },
    "id": "X0O_aZGq6_R3",
    "outputId": "dcab0943-f218-4adf-a7c9-3458d02090a9"
   },
   "outputs": [],
   "source": [
    "# Evaluate\n",
    "from sklearn.metrics import confusion_matrix\n",
    "cm = confusion_matrix(y_test, final_y_predicted)"
   ]
  },
  {
   "cell_type": "code",
   "execution_count": 30,
   "id": "b61f4bde",
   "metadata": {
    "colab": {
     "base_uri": "https://localhost:8080/",
     "height": 465
    },
    "id": "nPkVSmXl7Of1",
    "outputId": "c8a4b239-8e90-46be-abfd-b5b61e891f43"
   },
   "outputs": [
    {
     "data": {
      "text/plain": [
       "Text(92.25, 0.5, 'Actual  digit')"
      ]
     },
     "execution_count": 30,
     "metadata": {},
     "output_type": "execute_result"
    },
    {
     "data": {
      "image/png": "[encoded data removed]",
      "text/plain": [
       "<Figure size 1000x500 with 2 Axes>"
      ]
     },
     "metadata": {},
     "output_type": "display_data"
    }
   ],
   "source": [
    "# confusion matrix using seaborn\n",
    "import seaborn as sns\n",
    "sns.set(rc={'figure.figsize':(10,5)})\n",
    "sns.heatmap(cm,annot=True,cmap='PuBu_r',fmt='g')\n",
    "plt.xlabel(\"Predicted digit\")\n",
    "plt.ylabel(\"Actual  digit\") "
   ]
  },
  {
   "cell_type": "code",
   "execution_count": 31,
   "id": "ee492d16",
   "metadata": {},
   "outputs": [
    {
     "name": "stdout",
     "output_type": "stream",
     "text": [
      "              precision    recall  f1-score   support\n",
      "\n",
      "           0       0.97      0.99      0.98       980\n",
      "           1       0.98      0.99      0.98      1135\n",
      "           2       0.96      0.96      0.96      1032\n",
      "           3       0.94      0.97      0.95      1010\n",
      "           4       0.96      0.96      0.96       982\n",
      "           5       0.97      0.94      0.96       892\n",
      "           6       0.96      0.97      0.96       958\n",
      "           7       0.96      0.94      0.95      1028\n",
      "           8       0.97      0.95      0.96       974\n",
      "           9       0.95      0.95      0.95      1009\n",
      "\n",
      "    accuracy                           0.96     10000\n",
      "   macro avg       0.96      0.96      0.96     10000\n",
      "weighted avg       0.96      0.96      0.96     10000\n",
      "\n"
     ]
    },
    {
     "data": {
      "text/plain": [
       "\"\\nInfering the below scores:\\nPrecision: For each class, the precision is close to or above 0.95, \\nwhich means that when the model predicts a class, it is correct about 95% of the time or more. \\nFor example, when the model predicts an image to be a ‘0’, it is correct 97% of the time.\\n\\nRecall: The recall values are also high, close to or above 0.93, indicating that the model is \\nable to identify 93% or more of all actual instances of each class. \\nFor instance, out of all the actual '0’s in the test set, the model correctly identifies 98% of them.\\n\\nF1-score: The F1-scores are the harmonic mean of precision and recall, and they are also high,\\nwhich suggests a good balance between precision and recall. \\nAn F1-score of 0.97 for class ‘0’ means that the balance between precision and recall for \\npredicting zeros is excellent.\\n\\nSupport: This shows the number of actual occurrences of each class in the test set. \\nFor example, there are 980 instances of the class ‘0’.\\n\\nAccuracy: The overall accuracy of the model on the test set is 0.96, \\nmeaning it correctly predicts the class 96% of the time across all classes.\\n\\nMacro avg: The macro average calculates metrics for each class independently and \\nthen takes the average. This treats all classes equally, regardless of their support.\\n\\nWeighted avg: The weighted average takes into account the support of each class. \\nThis means that the contribution of each class to the average is weighted by the number of \\ntrue instances for each class.\\n\\nOverall, these values suggest that your model performs very well on the MNIST dataset, \\nwith high precision, recall, and F1-scores across all classes. \\nThe high accuracy indicates that the model is very effective at classifying handwritten digits.\\n\\n\""
      ]
     },
     "execution_count": 31,
     "metadata": {},
     "output_type": "execute_result"
    }
   ],
   "source": [
    "# print classwise precision recall f1 score\n",
    "from sklearn.metrics import classification_report\n",
    "print(classification_report(y_test,final_y_predicted))\n",
    "\n",
    "'''\n",
    "Precision: This measures the accuracy of the positive predictions. \n",
    "It is the ratio of true positive predictions to the total predicted positives \n",
    "(true positives + false positives). \n",
    "In mathematical terms, precision is defined as:\n",
    "Precision=(True Positives)/(True Positives+False Positives)\n",
    "\n",
    "Recall: Also known as sensitivity, it measures the ability of the model to find all the relevant cases\n",
    "within a dataset. \n",
    "It is the ratio of true positive predictions to the actual positives (true positives + false negatives)\n",
    "Mathematically, recall is:\n",
    "Recall=(True Positives)/(True Positives+False Negatives)\n",
    "\n",
    "F1-score: This is the harmonic mean of precision and recall and is used as a combined metric \n",
    "for these two. It is particularly useful when the class distribution is imbalanced. \n",
    "The F1-score reaches its best value at 1 (perfect precision and recall) and worst at 0.\n",
    "\n",
    "\n",
    "support:  refers to the number of actual occurrences of each class in the specified dataset1. \n",
    "It’s essentially the count of true instances for each label.\n",
    "'''\n",
    "\n",
    "\n",
    "'''\n",
    "Infering the below scores:\n",
    "Precision: For each class, the precision is close to or above 0.95, \n",
    "which means that when the model predicts a class, it is correct about 95% of the time or more. \n",
    "For example, when the model predicts an image to be a ‘0’, it is correct 97% of the time.\n",
    "\n",
    "Recall: The recall values are also high, close to or above 0.93, indicating that the model is \n",
    "able to identify 93% or more of all actual instances of each class. \n",
    "For instance, out of all the actual '0’s in the test set, the model correctly identifies 98% of them.\n",
    "\n",
    "F1-score: The F1-scores are the harmonic mean of precision and recall, and they are also high,\n",
    "which suggests a good balance between precision and recall. \n",
    "An F1-score of 0.97 for class ‘0’ means that the balance between precision and recall for \n",
    "predicting zeros is excellent.\n",
    "\n",
    "Support: This shows the number of actual occurrences of each class in the test set. \n",
    "For example, there are 980 instances of the class ‘0’.\n",
    "\n",
    "Accuracy: The overall accuracy of the model on the test set is 0.96, \n",
    "meaning it correctly predicts the class 96% of the time across all classes.\n",
    "\n",
    "Macro avg: The macro average calculates metrics for each class independently and \n",
    "then takes the average. This treats all classes equally, regardless of their support.\n",
    "\n",
    "Weighted avg: The weighted average takes into account the support of each class. \n",
    "This means that the contribution of each class to the average is weighted by the number of \n",
    "true instances for each class.\n",
    "\n",
    "Overall, these values suggest that your model performs very well on the MNIST dataset, \n",
    "with high precision, recall, and F1-scores across all classes. \n",
    "The high accuracy indicates that the model is very effective at classifying handwritten digits.\n",
    "\n",
    "'''"
   ]
  },
  {
   "cell_type": "markdown",
   "id": "f0d51033",
   "metadata": {},
   "source": [
    "# Save and load"
   ]
  },
  {
   "cell_type": "code",
   "execution_count": 32,
   "id": "3f2a91bf",
   "metadata": {},
   "outputs": [
    {
     "data": {
      "text/plain": [
       "'\\nsave the entire trained model to a single HDF5 file. This file will include:\\n\\nThe architecture of the model, allowing to re-create the model.\\nThe weights of the model.\\nThe training configuration (loss, optimizer).\\nThe state of the optimizer, allowing to resume training exactly where you left off.\\n'"
      ]
     },
     "execution_count": 32,
     "metadata": {},
     "output_type": "execute_result"
    }
   ],
   "source": [
    "model.save(\"savemodel.h5\")\n",
    "\n",
    "'''\n",
    "save the entire trained model to a single HDF5 file. This file will include:\n",
    "\n",
    "The architecture of the model, allowing to re-create the model.\n",
    "The weights of the model.\n",
    "The training configuration (loss, optimizer).\n",
    "The state of the optimizer, allowing to resume training exactly where you left off.\n",
    "'''"
   ]
  },
  {
   "cell_type": "code",
   "execution_count": 33,
   "id": "30256029",
   "metadata": {},
   "outputs": [
    {
     "name": "stdout",
     "output_type": "stream",
     "text": [
      "313/313 [==============================] - 0s 1ms/step\n",
      "              precision    recall  f1-score   support\n",
      "\n",
      "           0       0.97      0.99      0.98       980\n",
      "           1       0.98      0.99      0.98      1135\n",
      "           2       0.96      0.96      0.96      1032\n",
      "           3       0.94      0.97      0.95      1010\n",
      "           4       0.96      0.96      0.96       982\n",
      "           5       0.97      0.94      0.96       892\n",
      "           6       0.96      0.97      0.96       958\n",
      "           7       0.96      0.94      0.95      1028\n",
      "           8       0.97      0.95      0.96       974\n",
      "           9       0.95      0.95      0.95      1009\n",
      "\n",
      "    accuracy                           0.96     10000\n",
      "   macro avg       0.96      0.96      0.96     10000\n",
      "weighted avg       0.96      0.96      0.96     10000\n",
      "\n"
     ]
    }
   ],
   "source": [
    "from tensorflow.keras.models import load_model\n",
    "# load model\n",
    "\n",
    "#loads the trained model saved in the file savemodel.h5.\n",
    "model = load_model('savemodel.h5')\n",
    "\n",
    "#uses it to predict the output for the test data X_test. \n",
    "#The result, load_pred, will be an array of predictions.\n",
    "load_pred = model.predict(X_test)\n",
    "\n",
    "#Since model.predict() returns a probability distribution for each instance, np.argmax() \n",
    "#is used to find the index of the maximum value along axis 1\n",
    "load_pred = np.argmax(load_pred,axis=1)\n",
    "\n",
    "#prints out a classification report comparing the true labels y_test \n",
    "#with the predicted labels load_pred. \n",
    "#The report includes precision, recall, F1-score, and support for each class.\n",
    "print(classification_report(y_test,load_pred))"
   ]
  },
  {
   "cell_type": "code",
   "execution_count": 34,
   "id": "45203f3b",
   "metadata": {},
   "outputs": [
    {
     "name": "stdout",
     "output_type": "stream",
     "text": [
      "Epoch 1/10\n",
      "1479/1500 [============================>.] - ETA: 0s - loss: 0.1175 - accuracy: 0.9663\n",
      "Epoch 1: val_accuracy improved from -inf to 0.96200, saving model to bestcheckpoint.h5\n",
      "1500/1500 [==============================] - 4s 3ms/step - loss: 0.1175 - accuracy: 0.9663 - val_loss: 0.1326 - val_accuracy: 0.9620\n",
      "Epoch 2/10\n",
      "1483/1500 [============================>.] - ETA: 0s - loss: 0.1091 - accuracy: 0.9692\n",
      "Epoch 2: val_accuracy improved from 0.96200 to 0.96367, saving model to bestcheckpoint.h5\n",
      "1500/1500 [==============================] - 4s 3ms/step - loss: 0.1093 - accuracy: 0.9693 - val_loss: 0.1283 - val_accuracy: 0.9637\n",
      "Epoch 3/10\n",
      "1498/1500 [============================>.] - ETA: 0s - loss: 0.1016 - accuracy: 0.9711\n",
      "Epoch 3: val_accuracy improved from 0.96367 to 0.96525, saving model to bestcheckpoint.h5\n",
      "1500/1500 [==============================] - 4s 3ms/step - loss: 0.1016 - accuracy: 0.9711 - val_loss: 0.1214 - val_accuracy: 0.9653\n",
      "Epoch 4/10\n",
      "1491/1500 [============================>.] - ETA: 0s - loss: 0.0957 - accuracy: 0.9731\n",
      "Epoch 4: val_accuracy improved from 0.96525 to 0.96558, saving model to bestcheckpoint.h5\n",
      "1500/1500 [==============================] - 4s 3ms/step - loss: 0.0956 - accuracy: 0.9731 - val_loss: 0.1196 - val_accuracy: 0.9656\n",
      "Epoch 5/10\n",
      "1497/1500 [============================>.] - ETA: 0s - loss: 0.0895 - accuracy: 0.9752\n",
      "Epoch 5: val_accuracy improved from 0.96558 to 0.96783, saving model to bestcheckpoint.h5\n",
      "1500/1500 [==============================] - 4s 3ms/step - loss: 0.0894 - accuracy: 0.9752 - val_loss: 0.1155 - val_accuracy: 0.9678\n",
      "Epoch 6/10\n",
      "1497/1500 [============================>.] - ETA: 0s - loss: 0.0841 - accuracy: 0.9765\n",
      "Epoch 6: val_accuracy improved from 0.96783 to 0.96933, saving model to bestcheckpoint.h5\n",
      "1500/1500 [==============================] - 3s 2ms/step - loss: 0.0841 - accuracy: 0.9765 - val_loss: 0.1112 - val_accuracy: 0.9693\n",
      "Epoch 7/10\n",
      "1488/1500 [============================>.] - ETA: 0s - loss: 0.0794 - accuracy: 0.9782\n",
      "Epoch 7: val_accuracy did not improve from 0.96933\n",
      "1500/1500 [==============================] - 3s 2ms/step - loss: 0.0795 - accuracy: 0.9782 - val_loss: 0.1096 - val_accuracy: 0.9682\n",
      "Epoch 8/10\n",
      "1476/1500 [============================>.] - ETA: 0s - loss: 0.0748 - accuracy: 0.9794\n",
      "Epoch 8: val_accuracy improved from 0.96933 to 0.96958, saving model to bestcheckpoint.h5\n",
      "1500/1500 [==============================] - 3s 2ms/step - loss: 0.0749 - accuracy: 0.9795 - val_loss: 0.1048 - val_accuracy: 0.9696\n",
      "Epoch 9/10\n",
      "1487/1500 [============================>.] - ETA: 0s - loss: 0.0705 - accuracy: 0.9810\n",
      "Epoch 9: val_accuracy improved from 0.96958 to 0.97008, saving model to bestcheckpoint.h5\n",
      "1500/1500 [==============================] - 4s 3ms/step - loss: 0.0706 - accuracy: 0.9810 - val_loss: 0.1039 - val_accuracy: 0.9701\n",
      "Epoch 10/10\n",
      "1496/1500 [============================>.] - ETA: 0s - loss: 0.0666 - accuracy: 0.9820\n",
      "Epoch 10: val_accuracy improved from 0.97008 to 0.97175, saving model to bestcheckpoint.h5\n",
      "1500/1500 [==============================] - 4s 2ms/step - loss: 0.0667 - accuracy: 0.9820 - val_loss: 0.1032 - val_accuracy: 0.9718\n"
     ]
    },
    {
     "data": {
      "text/plain": [
       "<keras.callbacks.History at 0x2296860bac0>"
      ]
     },
     "execution_count": 34,
     "metadata": {},
     "output_type": "execute_result"
    }
   ],
   "source": [
    "# Model check point and early stopping\n",
    "from keras.callbacks import ModelCheckpoint, EarlyStopping\n",
    "filepath = \"bestcheckpoint.h5\"\n",
    "checkpoint = ModelCheckpoint(filepath, monitor='val_accuracy', verbose=1, save_best_only=True, mode='max')\n",
    "callbacks_list = [checkpoint]\n",
    "model.fit(X_train, y_train, validation_split=0.2, epochs=10, callbacks=callbacks_list)"
   ]
  },
  {
   "cell_type": "code",
   "execution_count": 35,
   "id": "9eeecd56",
   "metadata": {},
   "outputs": [
    {
     "name": "stdout",
     "output_type": "stream",
     "text": [
      "313/313 [==============================] - 1s 2ms/step\n",
      "              precision    recall  f1-score   support\n",
      "\n",
      "           0       0.98      0.98      0.98       980\n",
      "           1       0.99      0.99      0.99      1135\n",
      "           2       0.97      0.97      0.97      1032\n",
      "           3       0.97      0.98      0.97      1010\n",
      "           4       0.98      0.96      0.97       982\n",
      "           5       0.98      0.96      0.97       892\n",
      "           6       0.98      0.97      0.97       958\n",
      "           7       0.97      0.97      0.97      1028\n",
      "           8       0.96      0.97      0.97       974\n",
      "           9       0.96      0.97      0.96      1009\n",
      "\n",
      "    accuracy                           0.97     10000\n",
      "   macro avg       0.97      0.97      0.97     10000\n",
      "weighted avg       0.97      0.97      0.97     10000\n",
      "\n"
     ]
    }
   ],
   "source": [
    "from tensorflow.keras.models import load_model\n",
    "# load model\n",
    "model = load_model('bestcheckpoint.h5')\n",
    "load_pred = model.predict(X_test)\n",
    "load_pred = np.argmax(load_pred,axis=1)\n",
    "print(classification_report(y_test,load_pred))"
   ]
  },
  {
   "cell_type": "code",
   "execution_count": 36,
   "id": "7696a094",
   "metadata": {},
   "outputs": [
    {
     "name": "stdout",
     "output_type": "stream",
     "text": [
      "Epoch 1/10\n",
      "1490/1500 [============================>.] - ETA: 0s - loss: 0.0635 - accuracy: 0.9833\n",
      "Epoch 1: val_accuracy improved from -inf to 0.97133, saving model to earlystopping.h5\n",
      "1500/1500 [==============================] - 6s 4ms/step - loss: 0.0633 - accuracy: 0.9834 - val_loss: 0.1004 - val_accuracy: 0.9713\n",
      "Epoch 2/10\n",
      "1494/1500 [============================>.] - ETA: 0s - loss: 0.0599 - accuracy: 0.9841\n",
      "Epoch 2: val_accuracy improved from 0.97133 to 0.97200, saving model to earlystopping.h5\n",
      "1500/1500 [==============================] - 4s 2ms/step - loss: 0.0599 - accuracy: 0.9842 - val_loss: 0.0965 - val_accuracy: 0.9720\n",
      "Epoch 3/10\n",
      "1496/1500 [============================>.] - ETA: 0s - loss: 0.0570 - accuracy: 0.9853\n",
      "Epoch 3: val_accuracy did not improve from 0.97200\n",
      "1500/1500 [==============================] - 4s 3ms/step - loss: 0.0570 - accuracy: 0.9852 - val_loss: 0.0969 - val_accuracy: 0.9720\n",
      "Epoch 4/10\n",
      "1492/1500 [============================>.] - ETA: 0s - loss: 0.0543 - accuracy: 0.9856\n",
      "Epoch 4: val_accuracy improved from 0.97200 to 0.97317, saving model to earlystopping.h5\n",
      "1500/1500 [==============================] - 3s 2ms/step - loss: 0.0542 - accuracy: 0.9857 - val_loss: 0.0977 - val_accuracy: 0.9732\n",
      "Epoch 5/10\n",
      "1485/1500 [============================>.] - ETA: 0s - loss: 0.0515 - accuracy: 0.9866\n",
      "Epoch 5: val_accuracy did not improve from 0.97317\n",
      "1500/1500 [==============================] - 3s 2ms/step - loss: 0.0514 - accuracy: 0.9867 - val_loss: 0.0943 - val_accuracy: 0.9730\n",
      "Epoch 6/10\n",
      "1492/1500 [============================>.] - ETA: 0s - loss: 0.0488 - accuracy: 0.9879\n",
      "Epoch 6: val_accuracy did not improve from 0.97317\n",
      "1500/1500 [==============================] - 3s 2ms/step - loss: 0.0487 - accuracy: 0.9879 - val_loss: 0.0934 - val_accuracy: 0.9728\n"
     ]
    },
    {
     "data": {
      "text/plain": [
       "<keras.callbacks.History at 0x229686a0af0>"
      ]
     },
     "execution_count": 36,
     "metadata": {},
     "output_type": "execute_result"
    }
   ],
   "source": [
    "filepath = \"earlystopping.h5\"\n",
    "checkpoint = ModelCheckpoint(filepath, monitor='val_accuracy', verbose=1, save_best_only=True, mode='max')\n",
    "es = EarlyStopping(monitor='val_accuracy', patience=2)\n",
    "callbacks_list = [checkpoint, es]\n",
    "model.fit(X_train, y_train, validation_split=0.2, epochs=10, callbacks=callbacks_list)"
   ]
  },
  {
   "cell_type": "code",
   "execution_count": 37,
   "id": "6e8bb610",
   "metadata": {},
   "outputs": [
    {
     "name": "stdout",
     "output_type": "stream",
     "text": [
      "313/313 [==============================] - 0s 1ms/step\n",
      "              precision    recall  f1-score   support\n",
      "\n",
      "           0       0.97      0.99      0.98       980\n",
      "           1       0.98      0.99      0.99      1135\n",
      "           2       0.96      0.98      0.97      1032\n",
      "           3       0.98      0.98      0.98      1010\n",
      "           4       0.98      0.97      0.97       982\n",
      "           5       0.99      0.96      0.97       892\n",
      "           6       0.97      0.98      0.97       958\n",
      "           7       0.97      0.97      0.97      1028\n",
      "           8       0.97      0.97      0.97       974\n",
      "           9       0.97      0.96      0.97      1009\n",
      "\n",
      "    accuracy                           0.97     10000\n",
      "   macro avg       0.97      0.97      0.97     10000\n",
      "weighted avg       0.97      0.97      0.97     10000\n",
      "\n"
     ]
    }
   ],
   "source": [
    "from tensorflow.keras.models import load_model\n",
    "# load model\n",
    "model = load_model('earlystopping.h5')\n",
    "load_pred = model.predict(X_test)\n",
    "load_pred = np.argmax(load_pred,axis=1)\n",
    "print(classification_report(y_test,load_pred))"
   ]
  }
 ],
 "metadata": {
  "kernelspec": {
   "display_name": "Python 3 (ipykernel)",
   "language": "python",
   "name": "python3"
  },
  "language_info": {
   "codemirror_mode": {
    "name": "ipython",
    "version": 3
   },
   "file_extension": ".py",
   "mimetype": "text/x-python",
   "name": "python",
   "nbconvert_exporter": "python",
   "pygments_lexer": "ipython3",
   "version": "3.11.7"
  }
 },
 "nbformat": 4,
 "nbformat_minor": 5
}
