{
 "cells": [
  {
   "cell_type": "markdown",
   "id": "a814aa07",
   "metadata": {},
   "source": [
    "### Step 1 - Importing the requried libraries"
   ]
  },
  {
   "cell_type": "code",
   "execution_count": 29,
   "id": "e6439f6f",
   "metadata": {
    "id": "e6439f6f"
   },
   "outputs": [
    {
     "data": {
      "text/plain": [
       "'\\nTensorFlow (import tensorflow as tf): Provides tools for building and training neural networks.\\n\\nNumPy (import numpy as np): Supports numerical computations with multi-dimensional arrays.\\n\\nPandas (import pandas as pd): Facilitates data manipulation and analysis with DataFrames.\\n\\nKeras (from tensorflow import keras): Simplifies building and training neural networks.\\n\\nCIFAR-10 Dataset (from keras.datasets import cifar10): Provides a dataset of 60,000 32x32 color images for training.\\n\\nSequential Model (from keras.models import Sequential): Allows building neural networks layer by layer.\\n\\nLayers (from keras.layers import Dense, Dropout, Conv2D, MaxPool2D, Flatten):\\n        Dense: Adds a fully connected layer.\\n        Dropout: Helps prevent overfitting by randomly dropping units.\\n        Conv2D: Adds a 2D convolutional layer for image processing.\\n        MaxPool2D: Reduces spatial dimensions with max pooling.\\n        Flatten: Converts input into a 1D array.\\n        \\nMatplotlib (import matplotlib.pyplot as plt): Creates static, animated, and interactive visualizations.\\n\\nSeaborn (import seaborn as sns): Enhances Matplotlib with additional statistical plotting.\\n\\n'"
      ]
     },
     "execution_count": 29,
     "metadata": {},
     "output_type": "execute_result"
    }
   ],
   "source": [
    "# imports for the dataset and building our neural network\n",
    "import tensorflow as tf\n",
    "import numpy as np\n",
    "import pandas as pd\n",
    "from tensorflow import keras\n",
    "from keras.datasets import cifar10\n",
    "from keras.models import Sequential\n",
    "from keras.layers import Dense, Dropout, Conv2D, MaxPool2D, Flatten\n",
    "import matplotlib.pyplot as plt\n",
    "import seaborn as sns \n",
    "\n",
    "'''\n",
    "TensorFlow (import tensorflow as tf): Provides tools for building and training neural networks.\n",
    "\n",
    "NumPy (import numpy as np): Supports numerical computations with multi-dimensional arrays.\n",
    "\n",
    "Pandas (import pandas as pd): Facilitates data manipulation and analysis with DataFrames.\n",
    "\n",
    "Keras (from tensorflow import keras): Simplifies building and training neural networks.\n",
    "\n",
    "CIFAR-10 Dataset (from keras.datasets import cifar10): Provides a dataset of 60,000 32x32 color images for training.\n",
    "\n",
    "Sequential Model (from keras.models import Sequential): Allows building neural networks layer by layer.\n",
    "\n",
    "Layers (from keras.layers import Dense, Dropout, Conv2D, MaxPool2D, Flatten):\n",
    "        Dense: Adds a fully connected layer.\n",
    "        Dropout: Helps prevent overfitting by randomly dropping units.\n",
    "        Conv2D: Adds a 2D convolutional layer for image processing.\n",
    "        MaxPool2D: Reduces spatial dimensions with max pooling.\n",
    "        Flatten: Converts input into a 1D array.\n",
    "        \n",
    "Matplotlib (import matplotlib.pyplot as plt): Creates static, animated, and interactive visualizations.\n",
    "\n",
    "Seaborn (import seaborn as sns): Enhances Matplotlib with additional statistical plotting.\n",
    "\n",
    "'''"
   ]
  },
  {
   "cell_type": "markdown",
   "id": "b058fda0",
   "metadata": {},
   "source": [
    "### Step 2- Load and Explore the dataset"
   ]
  },
  {
   "cell_type": "code",
   "execution_count": 30,
   "id": "f2052f76",
   "metadata": {
    "id": "f2052f76"
   },
   "outputs": [],
   "source": [
    "# loading the dataset\n",
    "# dataset details can be found at https://www.cs.toronto.edu/~kriz/cifar.html\n",
    "(X_train, y_train), (X_test, y_test) = cifar10.load_data()"
   ]
  },
  {
   "cell_type": "code",
   "execution_count": 31,
   "id": "8eb83200",
   "metadata": {
    "colab": {
     "base_uri": "https://localhost:8080/"
    },
    "id": "8eb83200",
    "outputId": "061b5705-cf79-4b64-bb7a-9e46563923aa"
   },
   "outputs": [
    {
     "data": {
      "text/plain": [
       "50000"
      ]
     },
     "execution_count": 31,
     "metadata": {},
     "output_type": "execute_result"
    }
   ],
   "source": [
    "len(X_train)"
   ]
  },
  {
   "cell_type": "code",
   "execution_count": 32,
   "id": "9b16a6eb",
   "metadata": {
    "colab": {
     "base_uri": "https://localhost:8080/"
    },
    "id": "9b16a6eb",
    "outputId": "eeaef73c-0747-4c11-bc22-b5e412a2d013"
   },
   "outputs": [
    {
     "data": {
      "text/plain": [
       "10000"
      ]
     },
     "execution_count": 32,
     "metadata": {},
     "output_type": "execute_result"
    }
   ],
   "source": [
    "len(X_test)"
   ]
  },
  {
   "cell_type": "code",
   "execution_count": 33,
   "id": "0a95fba2",
   "metadata": {
    "colab": {
     "base_uri": "https://localhost:8080/"
    },
    "id": "0a95fba2",
    "outputId": "5f47559b-3b8d-43ef-b684-6d88ae945803"
   },
   "outputs": [
    {
     "data": {
      "text/plain": [
       "(50000, 32, 32, 3)"
      ]
     },
     "execution_count": 33,
     "metadata": {},
     "output_type": "execute_result"
    }
   ],
   "source": [
    "X_train.shape"
   ]
  },
  {
   "cell_type": "markdown",
   "id": "940d028c",
   "metadata": {},
   "source": [
    "The shape (50000, 32, 32, 3) in the CIFAR-10 dataset represents:\n",
    "\n",
    "50000: The number of images in the dataset.\n",
    "32, 32: The height and width of each image in pixels.\n",
    "3: The number of color channels (Red, Green, Blue) in each image.\n",
    "So, this shape indicates that the dataset contains 50,000 images, each of size 32x32 pixels with 3 color channels.\n",
    "\n",
    "Is there anything specific you’d like to know about working with this dataset?"
   ]
  },
  {
   "cell_type": "code",
   "execution_count": 34,
   "id": "s9YJq5Hi5MOD",
   "metadata": {
    "colab": {
     "base_uri": "https://localhost:8080/"
    },
    "id": "s9YJq5Hi5MOD",
    "outputId": "aa2db0cb-53b7-4ca5-8a79-b3c668a31278"
   },
   "outputs": [
    {
     "data": {
      "text/plain": [
       "array([[[ 59,  62,  63],\n",
       "        [ 43,  46,  45],\n",
       "        [ 50,  48,  43],\n",
       "        ...,\n",
       "        [158, 132, 108],\n",
       "        [152, 125, 102],\n",
       "        [148, 124, 103]],\n",
       "\n",
       "       [[ 16,  20,  20],\n",
       "        [  0,   0,   0],\n",
       "        [ 18,   8,   0],\n",
       "        ...,\n",
       "        [123,  88,  55],\n",
       "        [119,  83,  50],\n",
       "        [122,  87,  57]],\n",
       "\n",
       "       [[ 25,  24,  21],\n",
       "        [ 16,   7,   0],\n",
       "        [ 49,  27,   8],\n",
       "        ...,\n",
       "        [118,  84,  50],\n",
       "        [120,  84,  50],\n",
       "        [109,  73,  42]],\n",
       "\n",
       "       ...,\n",
       "\n",
       "       [[208, 170,  96],\n",
       "        [201, 153,  34],\n",
       "        [198, 161,  26],\n",
       "        ...,\n",
       "        [160, 133,  70],\n",
       "        [ 56,  31,   7],\n",
       "        [ 53,  34,  20]],\n",
       "\n",
       "       [[180, 139,  96],\n",
       "        [173, 123,  42],\n",
       "        [186, 144,  30],\n",
       "        ...,\n",
       "        [184, 148,  94],\n",
       "        [ 97,  62,  34],\n",
       "        [ 83,  53,  34]],\n",
       "\n",
       "       [[177, 144, 116],\n",
       "        [168, 129,  94],\n",
       "        [179, 142,  87],\n",
       "        ...,\n",
       "        [216, 184, 140],\n",
       "        [151, 118,  84],\n",
       "        [123,  92,  72]]], dtype=uint8)"
      ]
     },
     "execution_count": 34,
     "metadata": {},
     "output_type": "execute_result"
    }
   ],
   "source": [
    "X_train[0]"
   ]
  },
  {
   "cell_type": "code",
   "execution_count": 35,
   "id": "ZvQHO9Nu5Vgs",
   "metadata": {
    "colab": {
     "base_uri": "https://localhost:8080/"
    },
    "id": "ZvQHO9Nu5Vgs",
    "outputId": "993728f3-0e4d-4e33-9300-127d2913cbf2"
   },
   "outputs": [
    {
     "data": {
      "text/plain": [
       "(32, 32, 3)"
      ]
     },
     "execution_count": 35,
     "metadata": {},
     "output_type": "execute_result"
    }
   ],
   "source": [
    "X_train[0].shape"
   ]
  },
  {
   "cell_type": "code",
   "execution_count": 36,
   "id": "7zvOBx0IztRs",
   "metadata": {
    "colab": {
     "base_uri": "https://localhost:8080/",
     "height": 284
    },
    "id": "7zvOBx0IztRs",
    "outputId": "f31790f0-151f-45d0-8fcd-27a604808d7e"
   },
   "outputs": [
    {
     "data": {
      "text/plain": [
       "<matplotlib.image.AxesImage at 0x2c0ddc29f10>"
      ]
     },
     "execution_count": 36,
     "metadata": {},
     "output_type": "execute_result"
    },
    {
     "data": {
      "image/png": "[encoded data removed]",
      "text/plain": [
       "<Figure size 1500x700 with 1 Axes>"
      ]
     },
     "metadata": {},
     "output_type": "display_data"
    }
   ],
   "source": [
    "plt.imshow(X_train[1000]) #RGB---BGR"
   ]
  },
  {
   "cell_type": "code",
   "execution_count": 37,
   "id": "zz_6ux39zs4z",
   "metadata": {
    "colab": {
     "base_uri": "https://localhost:8080/"
    },
    "id": "zz_6ux39zs4z",
    "outputId": "72878c1b-21ca-4c85-ea6d-510b0f31f95c"
   },
   "outputs": [
    {
     "data": {
      "text/plain": [
       "array([6], dtype=uint8)"
      ]
     },
     "execution_count": 37,
     "metadata": {},
     "output_type": "execute_result"
    }
   ],
   "source": [
    "y_train[0]"
   ]
  },
  {
   "cell_type": "markdown",
   "id": "c13cf412",
   "metadata": {},
   "source": [
    "### Step 3- Preprocessing"
   ]
  },
  {
   "cell_type": "code",
   "execution_count": 38,
   "id": "ef2d4279",
   "metadata": {
    "id": "ef2d4279"
   },
   "outputs": [
    {
     "data": {
      "text/plain": [
       "'\\n! The data might already be in the shape (50000, 32, 32, 3) if it was loaded correctly from the CIFAR-10 dataset.\\nHowever, sometimes datasets can be loaded in a flattened format or in a different shape, \\nespecially if they were preprocessed or saved differently.\\n\\nThe reshape step ensures that the data is in the correct format for the neural network, \\nregardless of its initial shape. It’s a good practice to explicitly reshape the data to avoid any issues during model training.\\n'"
      ]
     },
     "execution_count": 38,
     "metadata": {},
     "output_type": "execute_result"
    }
   ],
   "source": [
    "# # building the input vector from the 32x32 pixels  we are creating a 3D array of the dataset \n",
    "X_train = X_train.reshape(X_train.shape[0], 32, 32, 3)\n",
    "X_test = X_test.reshape(X_test.shape[0], 32, 32, 3)\n",
    "\n",
    "'''\n",
    "! The data might already be in the shape (50000, 32, 32, 3) if it was loaded correctly from the CIFAR-10 dataset.\n",
    "However, sometimes datasets can be loaded in a flattened format or in a different shape, \n",
    "especially if they were preprocessed or saved differently.\n",
    "\n",
    "The reshape step ensures that the data is in the correct format for the neural network, \n",
    "regardless of its initial shape. It’s a good practice to explicitly reshape the data to avoid any issues during model training.\n",
    "'''"
   ]
  },
  {
   "cell_type": "code",
   "execution_count": 39,
   "id": "30ef8289",
   "metadata": {
    "id": "30ef8289"
   },
   "outputs": [],
   "source": [
    "# normalizing the data to help with the training\n",
    "X_train =X_train/ 255\n",
    "X_test =X_test/ 255"
   ]
  },
  {
   "cell_type": "markdown",
   "id": "661b7ec5",
   "metadata": {},
   "source": [
    "### Step 4- Building the Model"
   ]
  },
  {
   "cell_type": "code",
   "execution_count": 40,
   "id": "ebc94ae2",
   "metadata": {
    "id": "ebc94ae2"
   },
   "outputs": [],
   "source": [
    "# building a linear stack of layers with the sequential model\n",
    "model = Sequential()"
   ]
  },
  {
   "cell_type": "code",
   "execution_count": 41,
   "id": "7c3250c9",
   "metadata": {
    "id": "7c3250c9"
   },
   "outputs": [
    {
     "name": "stderr",
     "output_type": "stream",
     "text": [
      "C:\\Users\\seglu\\anaconda3\\Lib\\site-packages\\keras\\src\\layers\\convolutional\\base_conv.py:107: UserWarning: Do not pass an `input_shape`/`input_dim` argument to a layer. When using Sequential models, prefer using an `Input(shape)` object as the first layer in the model instead.\n",
      "  super().__init__(activity_regularizer=activity_regularizer, **kwargs)\n"
     ]
    },
    {
     "data": {
      "text/plain": [
       "\"\\n--Conv2D: Adds a 2D convolutional layer to the model.\\n--filters=16: Specifies the number of filters (16) in the convolutional layer.\\n--kernel_size=(5,5): Defines the size of the convolutional kernel (5x5).\\n--strides=(1,1): Sets the stride of the convolution (1 pixel at a time in both height and width).\\n--padding='same': Ensures the output has the same width and height as the input by padding the input.\\n--activation='relu': Applies the ReLU (Rectified Linear Unit) activation function to introduce non-linearity.\\n--input_shape=(32, 32, 3): Specifies the shape of the input data (32x32 pixels with 3 color channels).\\n\\nThis layer is responsible for detecting features in the input images by applying 16 different 5x5 filters \\nacross the entire image, with the ReLU activation function adding non-linearity to the model.\\n\""
      ]
     },
     "execution_count": 41,
     "metadata": {},
     "output_type": "execute_result"
    }
   ],
   "source": [
    "# convolutional layer 1\n",
    "\n",
    "model.add(Conv2D(filters=16, kernel_size=(5,5), strides=(1,1), padding='same', activation='relu', input_shape=(32, 32, 3)))\n",
    "'''\n",
    "--Conv2D: Adds a 2D convolutional layer to the model.\n",
    "--filters=16: Specifies the number of filters (16) in the convolutional layer.\n",
    "--kernel_size=(5,5): Defines the size of the convolutional kernel (5x5).\n",
    "--strides=(1,1): Sets the stride of the convolution (1 pixel at a time in both height and width).\n",
    "--padding='same': Ensures the output has the same width and height as the input by padding the input.\n",
    "--activation='relu': Applies the ReLU (Rectified Linear Unit) activation function to introduce non-linearity.\n",
    "--input_shape=(32, 32, 3): Specifies the shape of the input data (32x32 pixels with 3 color channels).\n",
    "\n",
    "This layer is responsible for detecting features in the input images by applying 16 different 5x5 filters \n",
    "across the entire image, with the ReLU activation function adding non-linearity to the model.\n",
    "'''\n"
   ]
  },
  {
   "cell_type": "code",
   "execution_count": 42,
   "id": "b2e29933",
   "metadata": {},
   "outputs": [
    {
     "data": {
      "text/plain": [
       "\"\\n--Conv2D: Adds a 2D convolutional layer to the model.\\n--filters=32: Specifies the number of filters (32) in the convolutional layer.\\n--kernel_size=(3,3): Defines the size of the convolutional kernel (3x3).\\n--strides=1: Sets the stride of the convolution to 1 pixel at a time in both height and width.\\n--padding='valid': No padding is added, so the output dimensions will be smaller than the input dimensions.\\n--activation='relu': Applies the ReLU (Rectified Linear Unit) activation function to introduce non-linearity.\\n\\nThis layer will apply 32 different 3x3 filters across the input, detecting more complex features compared \\nto the previous layer, and the ReLU activation function will help the model learn non-linear patterns.\\n\""
      ]
     },
     "execution_count": 42,
     "metadata": {},
     "output_type": "execute_result"
    }
   ],
   "source": [
    "# convolutional layer 2\n",
    "model.add(Conv2D(filters=32, kernel_size=(3,3), strides=1, padding='valid', activation='relu'))\n",
    "'''\n",
    "--Conv2D: Adds a 2D convolutional layer to the model.\n",
    "--filters=32: Specifies the number of filters (32) in the convolutional layer.\n",
    "--kernel_size=(3,3): Defines the size of the convolutional kernel (3x3).\n",
    "--strides=1: Sets the stride of the convolution to 1 pixel at a time in both height and width.\n",
    "--padding='valid': No padding is added, so the output dimensions will be smaller than the input dimensions.\n",
    "--activation='relu': Applies the ReLU (Rectified Linear Unit) activation function to introduce non-linearity.\n",
    "\n",
    "This layer will apply 32 different 3x3 filters across the input, detecting more complex features compared \n",
    "to the previous layer, and the ReLU activation function will help the model learn non-linear patterns.\n",
    "'''"
   ]
  },
  {
   "cell_type": "code",
   "execution_count": 43,
   "id": "54bcdb66",
   "metadata": {
    "id": "54bcdb66"
   },
   "outputs": [
    {
     "data": {
      "text/plain": [
       "'\\n--MaxPool2D: Adds a 2D max pooling layer to the model.\\n--pool_size=(2,2): Specifies the size of the pooling window (2x2).\\n\\nPurpose:\\nReduces Spatial Dimensions: The 2x2 pooling window slides over the input, taking the maximum value in each window, \\neffectively reducing the spatial dimensions by half.\\n\\nDownsamples the Input: This helps in reducing the computational load and the number of parameters, \\nmaking the model more efficient.\\n\\nRetains Important Features: By taking the maximum value, it retains the most prominent features detected by \\nthe previous convolutional layers.\\n'"
      ]
     },
     "execution_count": 43,
     "metadata": {},
     "output_type": "execute_result"
    }
   ],
   "source": [
    "# Pooling Layer\n",
    "model.add(MaxPool2D(pool_size=(2,2)))\n",
    "\n",
    "'''\n",
    "--MaxPool2D: Adds a 2D max pooling layer to the model.\n",
    "--pool_size=(2,2): Specifies the size of the pooling window (2x2).\n",
    "\n",
    "Purpose:\n",
    "Reduces Spatial Dimensions: The 2x2 pooling window slides over the input, taking the maximum value in each window, \n",
    "effectively reducing the spatial dimensions by half.\n",
    "\n",
    "Downsamples the Input: This helps in reducing the computational load and the number of parameters, \n",
    "making the model more efficient.\n",
    "\n",
    "Retains Important Features: By taking the maximum value, it retains the most prominent features detected by \n",
    "the previous convolutional layers.\n",
    "'''"
   ]
  },
  {
   "cell_type": "code",
   "execution_count": 44,
   "id": "1dffca2b",
   "metadata": {
    "id": "1dffca2b"
   },
   "outputs": [
    {
     "data": {
      "text/plain": [
       "'\\nFlatten: Adds a layer that flattens the input.\\nPurpose: Converts the multi-dimensional input (e.g., 2D feature maps) into a 1D array.\\n'"
      ]
     },
     "execution_count": 44,
     "metadata": {},
     "output_type": "execute_result"
    }
   ],
   "source": [
    "# flatten\n",
    "model.add(Flatten())\n",
    "'''\n",
    "Flatten: Adds a layer that flattens the input.\n",
    "Purpose: Converts the multi-dimensional input (e.g., 2D feature maps) into a 1D array.\n",
    "'''"
   ]
  },
  {
   "cell_type": "code",
   "execution_count": 45,
   "id": "12c97cfc",
   "metadata": {
    "id": "12c97cfc"
   },
   "outputs": [],
   "source": [
    "# Fully connected layer\n",
    "model.add(Dense(500, activation='relu'))\n",
    "model.add(Dense(100, activation='relu'))"
   ]
  },
  {
   "cell_type": "code",
   "execution_count": 46,
   "id": "9065f6d1",
   "metadata": {},
   "outputs": [],
   "source": [
    "# output layer\n",
    "model.add(Dense(10, activation='softmax'))"
   ]
  },
  {
   "cell_type": "code",
   "execution_count": 47,
   "id": "CXmI9yrvEOrE",
   "metadata": {
    "colab": {
     "base_uri": "https://localhost:8080/"
    },
    "id": "CXmI9yrvEOrE",
    "outputId": "1219d28f-0331-4b34-ae9b-989778a016f1"
   },
   "outputs": [
    {
     "data": {
      "text/html": [
       "<pre style=\"white-space:pre;overflow-x:auto;line-height:normal;font-family:Menlo,'DejaVu Sans Mono',consolas,'Courier New',monospace\"><span style=\"font-weight: bold\">Model: \"sequential_1\"</span>\n",
       "</pre>\n"
      ],
      "text/plain": [
       "\u001b[1mModel: \"sequential_1\"\u001b[0m\n"
      ]
     },
     "metadata": {},
     "output_type": "display_data"
    },
    {
     "data": {
      "text/html": [
       "<pre style=\"white-space:pre;overflow-x:auto;line-height:normal;font-family:Menlo,'DejaVu Sans Mono',consolas,'Courier New',monospace\">┏━━━━━━━━━━━━━━━━━━━━━━━━━━━━━━━━━━━━━━┳━━━━━━━━━━━━━━━━━━━━━━━━━━━━━┳━━━━━━━━━━━━━━━━━┓\n",
       "┃<span style=\"font-weight: bold\"> Layer (type)                         </span>┃<span style=\"font-weight: bold\"> Output Shape                </span>┃<span style=\"font-weight: bold\">         Param # </span>┃\n",
       "┡━━━━━━━━━━━━━━━━━━━━━━━━━━━━━━━━━━━━━━╇━━━━━━━━━━━━━━━━━━━━━━━━━━━━━╇━━━━━━━━━━━━━━━━━┩\n",
       "│ conv2d_2 (<span style=\"color: #0087ff; text-decoration-color: #0087ff\">Conv2D</span>)                    │ (<span style=\"color: #00d7ff; text-decoration-color: #00d7ff\">None</span>, <span style=\"color: #00af00; text-decoration-color: #00af00\">32</span>, <span style=\"color: #00af00; text-decoration-color: #00af00\">32</span>, <span style=\"color: #00af00; text-decoration-color: #00af00\">16</span>)          │           <span style=\"color: #00af00; text-decoration-color: #00af00\">1,216</span> │\n",
       "├──────────────────────────────────────┼─────────────────────────────┼─────────────────┤\n",
       "│ conv2d_3 (<span style=\"color: #0087ff; text-decoration-color: #0087ff\">Conv2D</span>)                    │ (<span style=\"color: #00d7ff; text-decoration-color: #00d7ff\">None</span>, <span style=\"color: #00af00; text-decoration-color: #00af00\">30</span>, <span style=\"color: #00af00; text-decoration-color: #00af00\">30</span>, <span style=\"color: #00af00; text-decoration-color: #00af00\">32</span>)          │           <span style=\"color: #00af00; text-decoration-color: #00af00\">4,640</span> │\n",
       "├──────────────────────────────────────┼─────────────────────────────┼─────────────────┤\n",
       "│ max_pooling2d_1 (<span style=\"color: #0087ff; text-decoration-color: #0087ff\">MaxPooling2D</span>)       │ (<span style=\"color: #00d7ff; text-decoration-color: #00d7ff\">None</span>, <span style=\"color: #00af00; text-decoration-color: #00af00\">15</span>, <span style=\"color: #00af00; text-decoration-color: #00af00\">15</span>, <span style=\"color: #00af00; text-decoration-color: #00af00\">32</span>)          │               <span style=\"color: #00af00; text-decoration-color: #00af00\">0</span> │\n",
       "├──────────────────────────────────────┼─────────────────────────────┼─────────────────┤\n",
       "│ flatten_1 (<span style=\"color: #0087ff; text-decoration-color: #0087ff\">Flatten</span>)                  │ (<span style=\"color: #00d7ff; text-decoration-color: #00d7ff\">None</span>, <span style=\"color: #00af00; text-decoration-color: #00af00\">7200</span>)                │               <span style=\"color: #00af00; text-decoration-color: #00af00\">0</span> │\n",
       "├──────────────────────────────────────┼─────────────────────────────┼─────────────────┤\n",
       "│ dense_3 (<span style=\"color: #0087ff; text-decoration-color: #0087ff\">Dense</span>)                      │ (<span style=\"color: #00d7ff; text-decoration-color: #00d7ff\">None</span>, <span style=\"color: #00af00; text-decoration-color: #00af00\">500</span>)                 │       <span style=\"color: #00af00; text-decoration-color: #00af00\">3,600,500</span> │\n",
       "├──────────────────────────────────────┼─────────────────────────────┼─────────────────┤\n",
       "│ dense_4 (<span style=\"color: #0087ff; text-decoration-color: #0087ff\">Dense</span>)                      │ (<span style=\"color: #00d7ff; text-decoration-color: #00d7ff\">None</span>, <span style=\"color: #00af00; text-decoration-color: #00af00\">100</span>)                 │          <span style=\"color: #00af00; text-decoration-color: #00af00\">50,100</span> │\n",
       "├──────────────────────────────────────┼─────────────────────────────┼─────────────────┤\n",
       "│ dense_5 (<span style=\"color: #0087ff; text-decoration-color: #0087ff\">Dense</span>)                      │ (<span style=\"color: #00d7ff; text-decoration-color: #00d7ff\">None</span>, <span style=\"color: #00af00; text-decoration-color: #00af00\">10</span>)                  │           <span style=\"color: #00af00; text-decoration-color: #00af00\">1,010</span> │\n",
       "└──────────────────────────────────────┴─────────────────────────────┴─────────────────┘\n",
       "</pre>\n"
      ],
      "text/plain": [
       "┏━━━━━━━━━━━━━━━━━━━━━━━━━━━━━━━━━━━━━━┳━━━━━━━━━━━━━━━━━━━━━━━━━━━━━┳━━━━━━━━━━━━━━━━━┓\n",
       "┃\u001b[1m \u001b[0m\u001b[1mLayer (type)                        \u001b[0m\u001b[1m \u001b[0m┃\u001b[1m \u001b[0m\u001b[1mOutput Shape               \u001b[0m\u001b[1m \u001b[0m┃\u001b[1m \u001b[0m\u001b[1m        Param #\u001b[0m\u001b[1m \u001b[0m┃\n",
       "┡━━━━━━━━━━━━━━━━━━━━━━━━━━━━━━━━━━━━━━╇━━━━━━━━━━━━━━━━━━━━━━━━━━━━━╇━━━━━━━━━━━━━━━━━┩\n",
       "│ conv2d_2 (\u001b[38;5;33mConv2D\u001b[0m)                    │ (\u001b[38;5;45mNone\u001b[0m, \u001b[38;5;34m32\u001b[0m, \u001b[38;5;34m32\u001b[0m, \u001b[38;5;34m16\u001b[0m)          │           \u001b[38;5;34m1,216\u001b[0m │\n",
       "├──────────────────────────────────────┼─────────────────────────────┼─────────────────┤\n",
       "│ conv2d_3 (\u001b[38;5;33mConv2D\u001b[0m)                    │ (\u001b[38;5;45mNone\u001b[0m, \u001b[38;5;34m30\u001b[0m, \u001b[38;5;34m30\u001b[0m, \u001b[38;5;34m32\u001b[0m)          │           \u001b[38;5;34m4,640\u001b[0m │\n",
       "├──────────────────────────────────────┼─────────────────────────────┼─────────────────┤\n",
       "│ max_pooling2d_1 (\u001b[38;5;33mMaxPooling2D\u001b[0m)       │ (\u001b[38;5;45mNone\u001b[0m, \u001b[38;5;34m15\u001b[0m, \u001b[38;5;34m15\u001b[0m, \u001b[38;5;34m32\u001b[0m)          │               \u001b[38;5;34m0\u001b[0m │\n",
       "├──────────────────────────────────────┼─────────────────────────────┼─────────────────┤\n",
       "│ flatten_1 (\u001b[38;5;33mFlatten\u001b[0m)                  │ (\u001b[38;5;45mNone\u001b[0m, \u001b[38;5;34m7200\u001b[0m)                │               \u001b[38;5;34m0\u001b[0m │\n",
       "├──────────────────────────────────────┼─────────────────────────────┼─────────────────┤\n",
       "│ dense_3 (\u001b[38;5;33mDense\u001b[0m)                      │ (\u001b[38;5;45mNone\u001b[0m, \u001b[38;5;34m500\u001b[0m)                 │       \u001b[38;5;34m3,600,500\u001b[0m │\n",
       "├──────────────────────────────────────┼─────────────────────────────┼─────────────────┤\n",
       "│ dense_4 (\u001b[38;5;33mDense\u001b[0m)                      │ (\u001b[38;5;45mNone\u001b[0m, \u001b[38;5;34m100\u001b[0m)                 │          \u001b[38;5;34m50,100\u001b[0m │\n",
       "├──────────────────────────────────────┼─────────────────────────────┼─────────────────┤\n",
       "│ dense_5 (\u001b[38;5;33mDense\u001b[0m)                      │ (\u001b[38;5;45mNone\u001b[0m, \u001b[38;5;34m10\u001b[0m)                  │           \u001b[38;5;34m1,010\u001b[0m │\n",
       "└──────────────────────────────────────┴─────────────────────────────┴─────────────────┘\n"
      ]
     },
     "metadata": {},
     "output_type": "display_data"
    },
    {
     "data": {
      "text/html": [
       "<pre style=\"white-space:pre;overflow-x:auto;line-height:normal;font-family:Menlo,'DejaVu Sans Mono',consolas,'Courier New',monospace\"><span style=\"font-weight: bold\"> Total params: </span><span style=\"color: #00af00; text-decoration-color: #00af00\">3,657,466</span> (13.95 MB)\n",
       "</pre>\n"
      ],
      "text/plain": [
       "\u001b[1m Total params: \u001b[0m\u001b[38;5;34m3,657,466\u001b[0m (13.95 MB)\n"
      ]
     },
     "metadata": {},
     "output_type": "display_data"
    },
    {
     "data": {
      "text/html": [
       "<pre style=\"white-space:pre;overflow-x:auto;line-height:normal;font-family:Menlo,'DejaVu Sans Mono',consolas,'Courier New',monospace\"><span style=\"font-weight: bold\"> Trainable params: </span><span style=\"color: #00af00; text-decoration-color: #00af00\">3,657,466</span> (13.95 MB)\n",
       "</pre>\n"
      ],
      "text/plain": [
       "\u001b[1m Trainable params: \u001b[0m\u001b[38;5;34m3,657,466\u001b[0m (13.95 MB)\n"
      ]
     },
     "metadata": {},
     "output_type": "display_data"
    },
    {
     "data": {
      "text/html": [
       "<pre style=\"white-space:pre;overflow-x:auto;line-height:normal;font-family:Menlo,'DejaVu Sans Mono',consolas,'Courier New',monospace\"><span style=\"font-weight: bold\"> Non-trainable params: </span><span style=\"color: #00af00; text-decoration-color: #00af00\">0</span> (0.00 B)\n",
       "</pre>\n"
      ],
      "text/plain": [
       "\u001b[1m Non-trainable params: \u001b[0m\u001b[38;5;34m0\u001b[0m (0.00 B)\n"
      ]
     },
     "metadata": {},
     "output_type": "display_data"
    }
   ],
   "source": [
    "model.summary()"
   ]
  },
  {
   "cell_type": "markdown",
   "id": "6aae4acf",
   "metadata": {},
   "source": [
    "### Step 5- Compiling the model"
   ]
  },
  {
   "cell_type": "code",
   "execution_count": 48,
   "id": "13ddac7c",
   "metadata": {
    "colab": {
     "base_uri": "https://localhost:8080/"
    },
    "id": "13ddac7c",
    "outputId": "1570de41-c99b-4f99-cac4-2144ca786a1c"
   },
   "outputs": [
    {
     "data": {
      "text/plain": [
       "'\\nLoss Function: Guides the model on how to minimize the error between predictions and true labels.\\nMetrics: Provides a way to evaluate the model’s performance.\\nOptimizer: Adjusts the model’s weights to minimize the loss function efficiently.\\n'"
      ]
     },
     "execution_count": 48,
     "metadata": {},
     "output_type": "execute_result"
    }
   ],
   "source": [
    "# compiling the sequential model\n",
    "model.compile(loss='sparse_categorical_crossentropy', metrics=['accuracy'], optimizer='adam')\n",
    "\n",
    "'''\n",
    "Loss Function: Guides the model on how to minimize the error between predictions and true labels.\n",
    "Metrics: Provides a way to evaluate the model’s performance.\n",
    "Optimizer: Adjusts the model’s weights to minimize the loss function efficiently.\n",
    "'''"
   ]
  },
  {
   "cell_type": "markdown",
   "id": "dbfd4526",
   "metadata": {},
   "source": [
    "### Step 6- Training the model"
   ]
  },
  {
   "cell_type": "code",
   "execution_count": 49,
   "id": "918322f1",
   "metadata": {},
   "outputs": [
    {
     "name": "stdout",
     "output_type": "stream",
     "text": [
      "Epoch 1/10\n",
      "\u001b[1m157/157\u001b[0m \u001b[32m━━━━━━━━━━━━━━━━━━━━\u001b[0m\u001b[37m\u001b[0m \u001b[1m19s\u001b[0m 96ms/step - accuracy: 0.3248 - loss: 1.8478 - val_accuracy: 0.5157 - val_loss: 1.3696\n",
      "Epoch 2/10\n",
      "\u001b[1m157/157\u001b[0m \u001b[32m━━━━━━━━━━━━━━━━━━━━\u001b[0m\u001b[37m\u001b[0m \u001b[1m15s\u001b[0m 97ms/step - accuracy: 0.5435 - loss: 1.2829 - val_accuracy: 0.5710 - val_loss: 1.2195\n",
      "Epoch 3/10\n",
      "\u001b[1m157/157\u001b[0m \u001b[32m━━━━━━━━━━━━━━━━━━━━\u001b[0m\u001b[37m\u001b[0m \u001b[1m15s\u001b[0m 95ms/step - accuracy: 0.6078 - loss: 1.1120 - val_accuracy: 0.5868 - val_loss: 1.1662\n",
      "Epoch 4/10\n",
      "\u001b[1m157/157\u001b[0m \u001b[32m━━━━━━━━━━━━━━━━━━━━\u001b[0m\u001b[37m\u001b[0m \u001b[1m15s\u001b[0m 93ms/step - accuracy: 0.6597 - loss: 0.9678 - val_accuracy: 0.6315 - val_loss: 1.0605\n",
      "Epoch 5/10\n",
      "\u001b[1m157/157\u001b[0m \u001b[32m━━━━━━━━━━━━━━━━━━━━\u001b[0m\u001b[37m\u001b[0m \u001b[1m16s\u001b[0m 103ms/step - accuracy: 0.7027 - loss: 0.8467 - val_accuracy: 0.6524 - val_loss: 1.0086\n",
      "Epoch 6/10\n",
      "\u001b[1m157/157\u001b[0m \u001b[32m━━━━━━━━━━━━━━━━━━━━\u001b[0m\u001b[37m\u001b[0m \u001b[1m15s\u001b[0m 97ms/step - accuracy: 0.7378 - loss: 0.7470 - val_accuracy: 0.6631 - val_loss: 0.9880\n",
      "Epoch 7/10\n",
      "\u001b[1m157/157\u001b[0m \u001b[32m━━━━━━━━━━━━━━━━━━━━\u001b[0m\u001b[37m\u001b[0m \u001b[1m16s\u001b[0m 100ms/step - accuracy: 0.7794 - loss: 0.6359 - val_accuracy: 0.6612 - val_loss: 1.0141\n",
      "Epoch 8/10\n",
      "\u001b[1m157/157\u001b[0m \u001b[32m━━━━━━━━━━━━━━━━━━━━\u001b[0m\u001b[37m\u001b[0m \u001b[1m14s\u001b[0m 91ms/step - accuracy: 0.8100 - loss: 0.5516 - val_accuracy: 0.6664 - val_loss: 1.0282\n",
      "Epoch 9/10\n",
      "\u001b[1m157/157\u001b[0m \u001b[32m━━━━━━━━━━━━━━━━━━━━\u001b[0m\u001b[37m\u001b[0m \u001b[1m14s\u001b[0m 90ms/step - accuracy: 0.8541 - loss: 0.4295 - val_accuracy: 0.6709 - val_loss: 1.0638\n",
      "Epoch 10/10\n",
      "\u001b[1m157/157\u001b[0m \u001b[32m━━━━━━━━━━━━━━━━━━━━\u001b[0m\u001b[37m\u001b[0m \u001b[1m14s\u001b[0m 92ms/step - accuracy: 0.8883 - loss: 0.3418 - val_accuracy: 0.6703 - val_loss: 1.1240\n"
     ]
    },
    {
     "data": {
      "text/plain": [
       "<keras.src.callbacks.history.History at 0x2c0f3093010>"
      ]
     },
     "execution_count": 49,
     "metadata": {},
     "output_type": "execute_result"
    }
   ],
   "source": [
    "# training the model for 10 epochs\n",
    "model.fit(X_train, y_train, batch_size=256, epochs=10, validation_split=0.2)"
   ]
  },
  {
   "cell_type": "code",
   "execution_count": 50,
   "id": "c718b219",
   "metadata": {},
   "outputs": [
    {
     "data": {
      "text/plain": [
       "<Axes: >"
      ]
     },
     "execution_count": 50,
     "metadata": {},
     "output_type": "execute_result"
    },
    {
     "data": {
      "image/png": "[encoded data removed]",
      "text/plain": [
       "<Figure size 1500x700 with 1 Axes>"
      ]
     },
     "metadata": {},
     "output_type": "display_data"
    }
   ],
   "source": [
    "# Model training history parameters\n",
    "result=pd.DataFrame(model.history.history)\n",
    "# visualising the training history\n",
    "result.plot()"
   ]
  },
  {
   "cell_type": "markdown",
   "id": "0ff59b46",
   "metadata": {},
   "source": [
    "### Step 7- Prediction on Test Data"
   ]
  },
  {
   "cell_type": "code",
   "execution_count": 51,
   "id": "_M-B3JqsC0Qg",
   "metadata": {
    "colab": {
     "base_uri": "https://localhost:8080/"
    },
    "id": "_M-B3JqsC0Qg",
    "outputId": "79cbb8ea-b952-45c8-d654-12999342df4f"
   },
   "outputs": [
    {
     "name": "stdout",
     "output_type": "stream",
     "text": [
      "\u001b[1m313/313\u001b[0m \u001b[32m━━━━━━━━━━━━━━━━━━━━\u001b[0m\u001b[37m\u001b[0m \u001b[1m2s\u001b[0m 7ms/step\n"
     ]
    }
   ],
   "source": [
    "# prediction on test data\n",
    "y_pred=model.predict(X_test)"
   ]
  },
  {
   "cell_type": "code",
   "execution_count": 52,
   "id": "ea10a779",
   "metadata": {},
   "outputs": [
    {
     "data": {
      "text/plain": [
       "array([[4.7541984e-05, 1.1111419e-03, 3.7856793e-04, ..., 6.5885769e-04,\n",
       "        1.9418434e-03, 2.3461992e-04],\n",
       "       [2.2326726e-02, 5.2513510e-01, 9.9674116e-07, ..., 2.6004896e-09,\n",
       "        4.5206571e-01, 4.6951277e-04],\n",
       "       [4.3888927e-01, 2.1311073e-01, 7.1423443e-04, ..., 8.4522525e-03,\n",
       "        3.2243082e-01, 1.3444052e-02],\n",
       "       ...,\n",
       "       [2.6201253e-04, 1.0813838e-07, 6.8491328e-01, ..., 1.1457358e-04,\n",
       "        6.6225760e-04, 2.2599083e-06],\n",
       "       [5.5578455e-02, 4.8709664e-02, 1.8250144e-03, ..., 2.9112893e-04,\n",
       "        1.6354299e-05, 3.6776913e-04],\n",
       "       [3.0331620e-08, 2.8134227e-06, 2.9026905e-05, ..., 6.6065848e-01,\n",
       "        1.1812851e-08, 6.0012559e-07]], dtype=float32)"
      ]
     },
     "execution_count": 52,
     "metadata": {},
     "output_type": "execute_result"
    }
   ],
   "source": [
    "# print the predicted values\n",
    "y_pred"
   ]
  },
  {
   "cell_type": "code",
   "execution_count": 53,
   "id": "9989b204",
   "metadata": {},
   "outputs": [
    {
     "data": {
      "text/plain": [
       "'\\nIn the CIFAR-10 dataset, each image is associated with a numeric label that corresponds to a specific class. \\nHere is the mapping between the numeric labels and the class names:\\n\\n0: Airplane\\n1: Automobile\\n2: Bird\\n3: Cat\\n4: Deer\\n5: Dog\\n6: Frog\\n7: Horse\\n8: Ship\\n9: Truck\\n'"
      ]
     },
     "execution_count": 53,
     "metadata": {},
     "output_type": "execute_result"
    }
   ],
   "source": [
    "# getting predicted labels  for all the test samples\n",
    "final_y_predicted=np.argmax(y_pred,axis=1)\n",
    "final_y_predicted\n",
    "'''\n",
    "In the CIFAR-10 dataset, each image is associated with a numeric label that corresponds to a specific class. \n",
    "Here is the mapping between the numeric labels and the class names:\n",
    "\n",
    "0: Airplane\n",
    "1: Automobile\n",
    "2: Bird\n",
    "3: Cat\n",
    "4: Deer\n",
    "5: Dog\n",
    "6: Frog\n",
    "7: Horse\n",
    "8: Ship\n",
    "9: Truck\n",
    "'''"
   ]
  },
  {
   "cell_type": "code",
   "execution_count": 54,
   "id": "fb411f14",
   "metadata": {},
   "outputs": [
    {
     "data": {
      "text/plain": [
       "array([[785,  13,  47,  29,  13,  11,  21,  15,  31,  35],\n",
       "       [ 35, 744,  12,  11,   5,  13,  24,   5,  19, 132],\n",
       "       [ 73,   5, 489,  76, 104,  74, 123,  39,   5,  12],\n",
       "       [ 20,   8,  76, 418,  80, 203, 145,  30,   6,  14],\n",
       "       [ 13,   4,  74,  64, 631,  40, 105,  60,   6,   3],\n",
       "       [ 13,   2,  50, 161,  64, 602,  63,  37,   3,   5],\n",
       "       [  6,   3,  35,  34,  33,  31, 849,   4,   1,   4],\n",
       "       [ 15,   4,  39,  40,  75,  80,  18, 719,   0,  10],\n",
       "       [124,  49,  19,  18,  18,  16,  22,   1, 690,  43],\n",
       "       [ 49,  90,  10,  20,   8,  12,  24,  31,  21, 735]], dtype=int64)"
      ]
     },
     "execution_count": 54,
     "metadata": {},
     "output_type": "execute_result"
    }
   ],
   "source": [
    "# Evaluate\n",
    "from sklearn.metrics import confusion_matrix\n",
    "cm = confusion_matrix(y_test, final_y_predicted)\n",
    "cm"
   ]
  },
  {
   "cell_type": "code",
   "execution_count": 55,
   "id": "49716911",
   "metadata": {},
   "outputs": [
    {
     "data": {
      "text/plain": [
       "[[Text(0.5, 0, 'airplane'),\n",
       "  Text(1.5, 0, 'automobile'),\n",
       "  Text(2.5, 0, 'bird'),\n",
       "  Text(3.5, 0, 'cat'),\n",
       "  Text(4.5, 0, 'deer'),\n",
       "  Text(5.5, 0, 'dog'),\n",
       "  Text(6.5, 0, 'frog'),\n",
       "  Text(7.5, 0, 'horse'),\n",
       "  Text(8.5, 0, 'ship'),\n",
       "  Text(9.5, 0, 'truck')],\n",
       " [Text(0, 0.5, 'airplane'),\n",
       "  Text(0, 1.5, 'automobile'),\n",
       "  Text(0, 2.5, 'bird'),\n",
       "  Text(0, 3.5, 'cat'),\n",
       "  Text(0, 4.5, 'deer'),\n",
       "  Text(0, 5.5, 'dog'),\n",
       "  Text(0, 6.5, 'frog'),\n",
       "  Text(0, 7.5, 'horse'),\n",
       "  Text(0, 8.5, 'ship'),\n",
       "  Text(0, 9.5, 'truck')]]"
      ]
     },
     "execution_count": 55,
     "metadata": {},
     "output_type": "execute_result"
    },
    {
     "data": {
      "image/png": "[encoded data removed]",
      "text/plain": [
       "<Figure size 1500x700 with 2 Axes>"
      ]
     },
     "metadata": {},
     "output_type": "display_data"
    }
   ],
   "source": [
    "# confusion matrix using seaborn\n",
    "import seaborn as sns\n",
    "classes = ['airplane', 'automobile', 'bird', 'cat', 'deer', 'dog', 'frog', 'horse', 'ship', 'truck']\n",
    "sns.set(rc={'figure.figsize':(15,7)})\n",
    "c=sns.heatmap(cm,annot=True,cmap='PuBu_r',fmt='g')\n",
    "c.set(xticklabels=classes, yticklabels=classes)"
   ]
  },
  {
   "cell_type": "code",
   "execution_count": 56,
   "id": "e74281f9",
   "metadata": {},
   "outputs": [
    {
     "name": "stdout",
     "output_type": "stream",
     "text": [
      "              precision    recall  f1-score   support\n",
      "\n",
      "           0       0.69      0.79      0.74      1000\n",
      "           1       0.81      0.74      0.77      1000\n",
      "           2       0.57      0.49      0.53      1000\n",
      "           3       0.48      0.42      0.45      1000\n",
      "           4       0.61      0.63      0.62      1000\n",
      "           5       0.56      0.60      0.58      1000\n",
      "           6       0.61      0.85      0.71      1000\n",
      "           7       0.76      0.72      0.74      1000\n",
      "           8       0.88      0.69      0.77      1000\n",
      "           9       0.74      0.73      0.74      1000\n",
      "\n",
      "    accuracy                           0.67     10000\n",
      "   macro avg       0.67      0.67      0.66     10000\n",
      "weighted avg       0.67      0.67      0.66     10000\n",
      "\n"
     ]
    }
   ],
   "source": [
    "# print classwise precision recall f1 score\n",
    "from sklearn.metrics import classification_report\n",
    "print(classification_report(y_test,final_y_predicted))"
   ]
  },
  {
   "cell_type": "raw",
   "id": "c95819b6",
   "metadata": {},
   "source": [
    " Precision\n",
    "Precision measures how many of the items selected are relevant. It’s the ratio of true positive results to the total predicted positives.\n",
    "\n",
    "Formula: [ \\text{Precision} = \\frac{\\text{True Positives}}{\\text{True Positives} + \\text{False Positives}} ]\n",
    "\n",
    "Example: Imagine you have a model that identifies cats in photos. If it identifies 10 photos as cats, but only 7 of them actually have cats (and 3 are dogs), the precision is: [ \\text{Precision} = \\frac{7}{7 + 3} = 0.7 ]\n",
    "\n",
    "2. Recall\n",
    "Recall measures how many of the relevant items are selected. It’s the ratio of true positive results to the total actual positives.\n",
    "\n",
    "Formula: [ \\text{Recall} = \\frac{\\text{True Positives}}{\\text{True Positives} + \\text{False Negatives}} ]\n",
    "\n",
    "Example: Using the same cat model, if there are 10 photos with cats and the model correctly identifies 7 of them but misses 3, the recall is: [ \\text{Recall} = \\frac{7}{7 + 3} = 0.7 ]\n",
    "\n",
    "3. F1 Score\n",
    "The F1 score is the harmonic mean of precision and recall. It balances the two metrics.\n",
    "\n",
    "Formula: [ \\text{F1 Score} = 2 \\times \\frac{\\text{Precision} \\times \\text{Recall}}{\\text{Precision} + \\text{Recall}} ]\n",
    "\n",
    "Example: Using the precision and recall from above (both 0.7): [ \\text{F1 Score} = 2 \\times \\frac{0.7 \\times 0.7}{0.7 + 0.7} = 0.7 ]\n",
    "\n",
    "4. Support\n",
    "Support is the number of actual occurrences of the class in the dataset.\n",
    "\n",
    "Example: If there are 10 photos with cats, the support for the cat class is 10.\n",
    "\n",
    "Summary with Example\n",
    "Precision: Of the photos identified as cats, 70% were actually cats.\n",
    "Recall: The model identified 70% of all the cat photos correctly.\n",
    "F1 Score: The balance between precision and recall is 0.7.\n",
    "Support: There are 10 cat photos in total."
   ]
  },
  {
   "cell_type": "code",
   "execution_count": null,
   "id": "288af382",
   "metadata": {},
   "outputs": [],
   "source": []
  },
  {
   "cell_type": "code",
   "execution_count": null,
   "id": "7c45fef3-c0d0-4efb-a86e-4c0e0891c3fb",
   "metadata": {},
   "outputs": [],
   "source": []
  }
 ],
 "metadata": {
  "accelerator": "GPU",
  "colab": {
   "provenance": []
  },
  "gpuClass": "standard",
  "kernelspec": {
   "display_name": "Python 3 (ipykernel)",
   "language": "python",
   "name": "python3"
  },
  "language_info": {
   "codemirror_mode": {
    "name": "ipython",
    "version": 3
   },
   "file_extension": ".py",
   "mimetype": "text/x-python",
   "name": "python",
   "nbconvert_exporter": "python",
   "pygments_lexer": "ipython3",
   "version": "3.11.7"
  }
 },
 "nbformat": 4,
 "nbformat_minor": 5
}
